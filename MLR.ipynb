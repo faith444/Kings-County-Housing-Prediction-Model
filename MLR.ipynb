{
 "cells": [
  {
   "cell_type": "markdown",
   "metadata": {
    "id": "7jEO_tozaKP9"
   },
   "source": [
    "# Business Understanding"
   ]
  },
  {
   "cell_type": "markdown",
   "metadata": {
    "id": "qVXKXpw5aKP_"
   },
   "source": [
    "The goal is to save the new home buyers some time and to help ensure consistency in pricing between new houses on the market and old houses.\n",
    "\n",
    "The main purpose of this algorithm is predictive, meaning that this model should be able to take in attributes of the King's County dataset that does not yet have a set price, and to predict a good price. The effectiveness of this predictive model will be measured by how well it predicts prices in our test set, where we know what the actual prices were but the model does not.\n",
    "\n",
    "The secondary purpose of this algorithm is inferential, meaning that the model should be able to tell us something about the relationship between the attributes of a house in King's County and its price. "
   ]
  },
  {
   "cell_type": "markdown",
   "metadata": {
    "id": "FaXP7bMYaKP_"
   },
   "source": [
    "### Analysis Questions\n",
    "\n",
    "This analysis will seek to answer three questions about the data:\n",
    "\n",
    "**Question 1:** Which features are most highly correlated with price?\n",
    "\n",
    "**Question 2:** Which features have the strongest correlations with other predictor variables?\n",
    "\n",
    "**Question 3:** What combinations of features is the best fit, in terms of predictive power, for a multiple regression model to predict house prices?"
   ]
  },
  {
   "cell_type": "code",
   "execution_count": 1,
   "metadata": {
    "colab": {
     "base_uri": "https://localhost:8080/"
    },
    "id": "VhY9snjlaKQA",
    "outputId": "24728681-2982-4ba0-a390-553863cc110a"
   },
   "outputs": [],
   "source": [
    "import pandas as pd\n",
    "import matplotlib.pyplot as plt\n",
    "import numpy as np\n",
    "import seaborn as sns\n",
    "from scipy import stats\n",
    "import statsmodels.formula.api as smf\n",
    "from statsmodels.formula.api import ols\n",
    "import statsmodels.api as sm\n",
    "from sklearn import preprocessing\n",
    "from sklearn.linear_model import LinearRegression\n",
    "from sklearn.model_selection import train_test_split\n",
    "from sklearn.preprocessing import StandardScaler, MinMaxScaler\n",
    "from sklearn.metrics import r2_score\n",
    "from sklearn.metrics import mean_squared_error, make_scorer\n",
    "from sklearn.model_selection import cross_val_score\n",
    "import warnings\n",
    "warnings.filterwarnings('ignore') # Ignores big red warning signs\n",
    " \n",
    "%matplotlib inline\n",
    "sns.set_style(\"whitegrid\")"
   ]
  },
  {
   "cell_type": "code",
   "execution_count": 2,
   "metadata": {
    "id": "4J_-LiQtaKQA"
   },
   "outputs": [],
   "source": [
    "df = pd.read_csv('data/kc_house_data.csv')"
   ]
  },
  {
   "cell_type": "code",
   "execution_count": 3,
   "metadata": {
    "colab": {
     "base_uri": "https://localhost:8080/",
     "height": 340
    },
    "id": "XBIPC2XQaKQB",
    "outputId": "119c10e6-f727-43bb-c03a-83692f7fea98"
   },
   "outputs": [
    {
     "data": {
      "text/html": [
       "<div>\n",
       "<style scoped>\n",
       "    .dataframe tbody tr th:only-of-type {\n",
       "        vertical-align: middle;\n",
       "    }\n",
       "\n",
       "    .dataframe tbody tr th {\n",
       "        vertical-align: top;\n",
       "    }\n",
       "\n",
       "    .dataframe thead th {\n",
       "        text-align: right;\n",
       "    }\n",
       "</style>\n",
       "<table border=\"1\" class=\"dataframe\">\n",
       "  <thead>\n",
       "    <tr style=\"text-align: right;\">\n",
       "      <th></th>\n",
       "      <th>id</th>\n",
       "      <th>date</th>\n",
       "      <th>price</th>\n",
       "      <th>bedrooms</th>\n",
       "      <th>bathrooms</th>\n",
       "      <th>sqft_living</th>\n",
       "      <th>sqft_lot</th>\n",
       "      <th>floors</th>\n",
       "      <th>waterfront</th>\n",
       "      <th>view</th>\n",
       "      <th>...</th>\n",
       "      <th>grade</th>\n",
       "      <th>sqft_above</th>\n",
       "      <th>sqft_basement</th>\n",
       "      <th>yr_built</th>\n",
       "      <th>yr_renovated</th>\n",
       "      <th>zipcode</th>\n",
       "      <th>lat</th>\n",
       "      <th>long</th>\n",
       "      <th>sqft_living15</th>\n",
       "      <th>sqft_lot15</th>\n",
       "    </tr>\n",
       "  </thead>\n",
       "  <tbody>\n",
       "    <tr>\n",
       "      <th>0</th>\n",
       "      <td>7129300520</td>\n",
       "      <td>10/13/2014</td>\n",
       "      <td>221900.0</td>\n",
       "      <td>3</td>\n",
       "      <td>1.00</td>\n",
       "      <td>1180</td>\n",
       "      <td>5650</td>\n",
       "      <td>1.0</td>\n",
       "      <td>NaN</td>\n",
       "      <td>NONE</td>\n",
       "      <td>...</td>\n",
       "      <td>7 Average</td>\n",
       "      <td>1180</td>\n",
       "      <td>0.0</td>\n",
       "      <td>1955</td>\n",
       "      <td>0.0</td>\n",
       "      <td>98178</td>\n",
       "      <td>47.5112</td>\n",
       "      <td>-122.257</td>\n",
       "      <td>1340</td>\n",
       "      <td>5650</td>\n",
       "    </tr>\n",
       "    <tr>\n",
       "      <th>1</th>\n",
       "      <td>6414100192</td>\n",
       "      <td>12/9/2014</td>\n",
       "      <td>538000.0</td>\n",
       "      <td>3</td>\n",
       "      <td>2.25</td>\n",
       "      <td>2570</td>\n",
       "      <td>7242</td>\n",
       "      <td>2.0</td>\n",
       "      <td>NO</td>\n",
       "      <td>NONE</td>\n",
       "      <td>...</td>\n",
       "      <td>7 Average</td>\n",
       "      <td>2170</td>\n",
       "      <td>400.0</td>\n",
       "      <td>1951</td>\n",
       "      <td>1991.0</td>\n",
       "      <td>98125</td>\n",
       "      <td>47.7210</td>\n",
       "      <td>-122.319</td>\n",
       "      <td>1690</td>\n",
       "      <td>7639</td>\n",
       "    </tr>\n",
       "    <tr>\n",
       "      <th>2</th>\n",
       "      <td>5631500400</td>\n",
       "      <td>2/25/2015</td>\n",
       "      <td>180000.0</td>\n",
       "      <td>2</td>\n",
       "      <td>1.00</td>\n",
       "      <td>770</td>\n",
       "      <td>10000</td>\n",
       "      <td>1.0</td>\n",
       "      <td>NO</td>\n",
       "      <td>NONE</td>\n",
       "      <td>...</td>\n",
       "      <td>6 Low Average</td>\n",
       "      <td>770</td>\n",
       "      <td>0.0</td>\n",
       "      <td>1933</td>\n",
       "      <td>NaN</td>\n",
       "      <td>98028</td>\n",
       "      <td>47.7379</td>\n",
       "      <td>-122.233</td>\n",
       "      <td>2720</td>\n",
       "      <td>8062</td>\n",
       "    </tr>\n",
       "    <tr>\n",
       "      <th>3</th>\n",
       "      <td>2487200875</td>\n",
       "      <td>12/9/2014</td>\n",
       "      <td>604000.0</td>\n",
       "      <td>4</td>\n",
       "      <td>3.00</td>\n",
       "      <td>1960</td>\n",
       "      <td>5000</td>\n",
       "      <td>1.0</td>\n",
       "      <td>NO</td>\n",
       "      <td>NONE</td>\n",
       "      <td>...</td>\n",
       "      <td>7 Average</td>\n",
       "      <td>1050</td>\n",
       "      <td>910.0</td>\n",
       "      <td>1965</td>\n",
       "      <td>0.0</td>\n",
       "      <td>98136</td>\n",
       "      <td>47.5208</td>\n",
       "      <td>-122.393</td>\n",
       "      <td>1360</td>\n",
       "      <td>5000</td>\n",
       "    </tr>\n",
       "    <tr>\n",
       "      <th>4</th>\n",
       "      <td>1954400510</td>\n",
       "      <td>2/18/2015</td>\n",
       "      <td>510000.0</td>\n",
       "      <td>3</td>\n",
       "      <td>2.00</td>\n",
       "      <td>1680</td>\n",
       "      <td>8080</td>\n",
       "      <td>1.0</td>\n",
       "      <td>NO</td>\n",
       "      <td>NONE</td>\n",
       "      <td>...</td>\n",
       "      <td>8 Good</td>\n",
       "      <td>1680</td>\n",
       "      <td>0.0</td>\n",
       "      <td>1987</td>\n",
       "      <td>0.0</td>\n",
       "      <td>98074</td>\n",
       "      <td>47.6168</td>\n",
       "      <td>-122.045</td>\n",
       "      <td>1800</td>\n",
       "      <td>7503</td>\n",
       "    </tr>\n",
       "  </tbody>\n",
       "</table>\n",
       "<p>5 rows × 21 columns</p>\n",
       "</div>"
      ],
      "text/plain": [
       "           id        date     price  bedrooms  bathrooms  sqft_living  \\\n",
       "0  7129300520  10/13/2014  221900.0         3       1.00         1180   \n",
       "1  6414100192   12/9/2014  538000.0         3       2.25         2570   \n",
       "2  5631500400   2/25/2015  180000.0         2       1.00          770   \n",
       "3  2487200875   12/9/2014  604000.0         4       3.00         1960   \n",
       "4  1954400510   2/18/2015  510000.0         3       2.00         1680   \n",
       "\n",
       "   sqft_lot  floors waterfront  view  ...          grade sqft_above  \\\n",
       "0      5650     1.0        NaN  NONE  ...      7 Average       1180   \n",
       "1      7242     2.0         NO  NONE  ...      7 Average       2170   \n",
       "2     10000     1.0         NO  NONE  ...  6 Low Average        770   \n",
       "3      5000     1.0         NO  NONE  ...      7 Average       1050   \n",
       "4      8080     1.0         NO  NONE  ...         8 Good       1680   \n",
       "\n",
       "   sqft_basement yr_built  yr_renovated  zipcode      lat     long  \\\n",
       "0            0.0     1955           0.0    98178  47.5112 -122.257   \n",
       "1          400.0     1951        1991.0    98125  47.7210 -122.319   \n",
       "2            0.0     1933           NaN    98028  47.7379 -122.233   \n",
       "3          910.0     1965           0.0    98136  47.5208 -122.393   \n",
       "4            0.0     1987           0.0    98074  47.6168 -122.045   \n",
       "\n",
       "   sqft_living15  sqft_lot15  \n",
       "0           1340        5650  \n",
       "1           1690        7639  \n",
       "2           2720        8062  \n",
       "3           1360        5000  \n",
       "4           1800        7503  \n",
       "\n",
       "[5 rows x 21 columns]"
      ]
     },
     "execution_count": 3,
     "metadata": {},
     "output_type": "execute_result"
    }
   ],
   "source": [
    "df.head()"
   ]
  },
  {
   "cell_type": "code",
   "execution_count": 4,
   "metadata": {
    "colab": {
     "base_uri": "https://localhost:8080/"
    },
    "id": "pEWLkNftaKQB",
    "outputId": "322d24de-84bd-474b-a8d9-a28e16667f3f"
   },
   "outputs": [
    {
     "name": "stdout",
     "output_type": "stream",
     "text": [
      "<class 'pandas.core.frame.DataFrame'>\n",
      "RangeIndex: 21597 entries, 0 to 21596\n",
      "Data columns (total 21 columns):\n",
      " #   Column         Non-Null Count  Dtype  \n",
      "---  ------         --------------  -----  \n",
      " 0   id             21597 non-null  int64  \n",
      " 1   date           21597 non-null  object \n",
      " 2   price          21597 non-null  float64\n",
      " 3   bedrooms       21597 non-null  int64  \n",
      " 4   bathrooms      21597 non-null  float64\n",
      " 5   sqft_living    21597 non-null  int64  \n",
      " 6   sqft_lot       21597 non-null  int64  \n",
      " 7   floors         21597 non-null  float64\n",
      " 8   waterfront     19221 non-null  object \n",
      " 9   view           21534 non-null  object \n",
      " 10  condition      21597 non-null  object \n",
      " 11  grade          21597 non-null  object \n",
      " 12  sqft_above     21597 non-null  int64  \n",
      " 13  sqft_basement  21597 non-null  object \n",
      " 14  yr_built       21597 non-null  int64  \n",
      " 15  yr_renovated   17755 non-null  float64\n",
      " 16  zipcode        21597 non-null  int64  \n",
      " 17  lat            21597 non-null  float64\n",
      " 18  long           21597 non-null  float64\n",
      " 19  sqft_living15  21597 non-null  int64  \n",
      " 20  sqft_lot15     21597 non-null  int64  \n",
      "dtypes: float64(6), int64(9), object(6)\n",
      "memory usage: 3.5+ MB\n"
     ]
    }
   ],
   "source": [
    "df.info()"
   ]
  },
  {
   "cell_type": "code",
   "execution_count": 5,
   "metadata": {
    "colab": {
     "base_uri": "https://localhost:8080/",
     "height": 364
    },
    "id": "_WUnUPrOaKQC",
    "outputId": "32757044-f884-44d3-8a6e-ba310d528c9d"
   },
   "outputs": [
    {
     "data": {
      "text/html": [
       "<div>\n",
       "<style scoped>\n",
       "    .dataframe tbody tr th:only-of-type {\n",
       "        vertical-align: middle;\n",
       "    }\n",
       "\n",
       "    .dataframe tbody tr th {\n",
       "        vertical-align: top;\n",
       "    }\n",
       "\n",
       "    .dataframe thead th {\n",
       "        text-align: right;\n",
       "    }\n",
       "</style>\n",
       "<table border=\"1\" class=\"dataframe\">\n",
       "  <thead>\n",
       "    <tr style=\"text-align: right;\">\n",
       "      <th></th>\n",
       "      <th>id</th>\n",
       "      <th>price</th>\n",
       "      <th>bedrooms</th>\n",
       "      <th>bathrooms</th>\n",
       "      <th>sqft_living</th>\n",
       "      <th>sqft_lot</th>\n",
       "      <th>floors</th>\n",
       "      <th>sqft_above</th>\n",
       "      <th>yr_built</th>\n",
       "      <th>yr_renovated</th>\n",
       "      <th>zipcode</th>\n",
       "      <th>lat</th>\n",
       "      <th>long</th>\n",
       "      <th>sqft_living15</th>\n",
       "      <th>sqft_lot15</th>\n",
       "    </tr>\n",
       "  </thead>\n",
       "  <tbody>\n",
       "    <tr>\n",
       "      <th>count</th>\n",
       "      <td>2.159700e+04</td>\n",
       "      <td>2.159700e+04</td>\n",
       "      <td>21597.000000</td>\n",
       "      <td>21597.000000</td>\n",
       "      <td>21597.000000</td>\n",
       "      <td>2.159700e+04</td>\n",
       "      <td>21597.000000</td>\n",
       "      <td>21597.000000</td>\n",
       "      <td>21597.000000</td>\n",
       "      <td>17755.000000</td>\n",
       "      <td>21597.000000</td>\n",
       "      <td>21597.000000</td>\n",
       "      <td>21597.000000</td>\n",
       "      <td>21597.000000</td>\n",
       "      <td>21597.000000</td>\n",
       "    </tr>\n",
       "    <tr>\n",
       "      <th>mean</th>\n",
       "      <td>4.580474e+09</td>\n",
       "      <td>5.402966e+05</td>\n",
       "      <td>3.373200</td>\n",
       "      <td>2.115826</td>\n",
       "      <td>2080.321850</td>\n",
       "      <td>1.509941e+04</td>\n",
       "      <td>1.494096</td>\n",
       "      <td>1788.596842</td>\n",
       "      <td>1970.999676</td>\n",
       "      <td>83.636778</td>\n",
       "      <td>98077.951845</td>\n",
       "      <td>47.560093</td>\n",
       "      <td>-122.213982</td>\n",
       "      <td>1986.620318</td>\n",
       "      <td>12758.283512</td>\n",
       "    </tr>\n",
       "    <tr>\n",
       "      <th>std</th>\n",
       "      <td>2.876736e+09</td>\n",
       "      <td>3.673681e+05</td>\n",
       "      <td>0.926299</td>\n",
       "      <td>0.768984</td>\n",
       "      <td>918.106125</td>\n",
       "      <td>4.141264e+04</td>\n",
       "      <td>0.539683</td>\n",
       "      <td>827.759761</td>\n",
       "      <td>29.375234</td>\n",
       "      <td>399.946414</td>\n",
       "      <td>53.513072</td>\n",
       "      <td>0.138552</td>\n",
       "      <td>0.140724</td>\n",
       "      <td>685.230472</td>\n",
       "      <td>27274.441950</td>\n",
       "    </tr>\n",
       "    <tr>\n",
       "      <th>min</th>\n",
       "      <td>1.000102e+06</td>\n",
       "      <td>7.800000e+04</td>\n",
       "      <td>1.000000</td>\n",
       "      <td>0.500000</td>\n",
       "      <td>370.000000</td>\n",
       "      <td>5.200000e+02</td>\n",
       "      <td>1.000000</td>\n",
       "      <td>370.000000</td>\n",
       "      <td>1900.000000</td>\n",
       "      <td>0.000000</td>\n",
       "      <td>98001.000000</td>\n",
       "      <td>47.155900</td>\n",
       "      <td>-122.519000</td>\n",
       "      <td>399.000000</td>\n",
       "      <td>651.000000</td>\n",
       "    </tr>\n",
       "    <tr>\n",
       "      <th>25%</th>\n",
       "      <td>2.123049e+09</td>\n",
       "      <td>3.220000e+05</td>\n",
       "      <td>3.000000</td>\n",
       "      <td>1.750000</td>\n",
       "      <td>1430.000000</td>\n",
       "      <td>5.040000e+03</td>\n",
       "      <td>1.000000</td>\n",
       "      <td>1190.000000</td>\n",
       "      <td>1951.000000</td>\n",
       "      <td>0.000000</td>\n",
       "      <td>98033.000000</td>\n",
       "      <td>47.471100</td>\n",
       "      <td>-122.328000</td>\n",
       "      <td>1490.000000</td>\n",
       "      <td>5100.000000</td>\n",
       "    </tr>\n",
       "    <tr>\n",
       "      <th>50%</th>\n",
       "      <td>3.904930e+09</td>\n",
       "      <td>4.500000e+05</td>\n",
       "      <td>3.000000</td>\n",
       "      <td>2.250000</td>\n",
       "      <td>1910.000000</td>\n",
       "      <td>7.618000e+03</td>\n",
       "      <td>1.500000</td>\n",
       "      <td>1560.000000</td>\n",
       "      <td>1975.000000</td>\n",
       "      <td>0.000000</td>\n",
       "      <td>98065.000000</td>\n",
       "      <td>47.571800</td>\n",
       "      <td>-122.231000</td>\n",
       "      <td>1840.000000</td>\n",
       "      <td>7620.000000</td>\n",
       "    </tr>\n",
       "    <tr>\n",
       "      <th>75%</th>\n",
       "      <td>7.308900e+09</td>\n",
       "      <td>6.450000e+05</td>\n",
       "      <td>4.000000</td>\n",
       "      <td>2.500000</td>\n",
       "      <td>2550.000000</td>\n",
       "      <td>1.068500e+04</td>\n",
       "      <td>2.000000</td>\n",
       "      <td>2210.000000</td>\n",
       "      <td>1997.000000</td>\n",
       "      <td>0.000000</td>\n",
       "      <td>98118.000000</td>\n",
       "      <td>47.678000</td>\n",
       "      <td>-122.125000</td>\n",
       "      <td>2360.000000</td>\n",
       "      <td>10083.000000</td>\n",
       "    </tr>\n",
       "    <tr>\n",
       "      <th>max</th>\n",
       "      <td>9.900000e+09</td>\n",
       "      <td>7.700000e+06</td>\n",
       "      <td>33.000000</td>\n",
       "      <td>8.000000</td>\n",
       "      <td>13540.000000</td>\n",
       "      <td>1.651359e+06</td>\n",
       "      <td>3.500000</td>\n",
       "      <td>9410.000000</td>\n",
       "      <td>2015.000000</td>\n",
       "      <td>2015.000000</td>\n",
       "      <td>98199.000000</td>\n",
       "      <td>47.777600</td>\n",
       "      <td>-121.315000</td>\n",
       "      <td>6210.000000</td>\n",
       "      <td>871200.000000</td>\n",
       "    </tr>\n",
       "  </tbody>\n",
       "</table>\n",
       "</div>"
      ],
      "text/plain": [
       "                 id         price      bedrooms     bathrooms   sqft_living  \\\n",
       "count  2.159700e+04  2.159700e+04  21597.000000  21597.000000  21597.000000   \n",
       "mean   4.580474e+09  5.402966e+05      3.373200      2.115826   2080.321850   \n",
       "std    2.876736e+09  3.673681e+05      0.926299      0.768984    918.106125   \n",
       "min    1.000102e+06  7.800000e+04      1.000000      0.500000    370.000000   \n",
       "25%    2.123049e+09  3.220000e+05      3.000000      1.750000   1430.000000   \n",
       "50%    3.904930e+09  4.500000e+05      3.000000      2.250000   1910.000000   \n",
       "75%    7.308900e+09  6.450000e+05      4.000000      2.500000   2550.000000   \n",
       "max    9.900000e+09  7.700000e+06     33.000000      8.000000  13540.000000   \n",
       "\n",
       "           sqft_lot        floors    sqft_above      yr_built  yr_renovated  \\\n",
       "count  2.159700e+04  21597.000000  21597.000000  21597.000000  17755.000000   \n",
       "mean   1.509941e+04      1.494096   1788.596842   1970.999676     83.636778   \n",
       "std    4.141264e+04      0.539683    827.759761     29.375234    399.946414   \n",
       "min    5.200000e+02      1.000000    370.000000   1900.000000      0.000000   \n",
       "25%    5.040000e+03      1.000000   1190.000000   1951.000000      0.000000   \n",
       "50%    7.618000e+03      1.500000   1560.000000   1975.000000      0.000000   \n",
       "75%    1.068500e+04      2.000000   2210.000000   1997.000000      0.000000   \n",
       "max    1.651359e+06      3.500000   9410.000000   2015.000000   2015.000000   \n",
       "\n",
       "            zipcode           lat          long  sqft_living15     sqft_lot15  \n",
       "count  21597.000000  21597.000000  21597.000000   21597.000000   21597.000000  \n",
       "mean   98077.951845     47.560093   -122.213982    1986.620318   12758.283512  \n",
       "std       53.513072      0.138552      0.140724     685.230472   27274.441950  \n",
       "min    98001.000000     47.155900   -122.519000     399.000000     651.000000  \n",
       "25%    98033.000000     47.471100   -122.328000    1490.000000    5100.000000  \n",
       "50%    98065.000000     47.571800   -122.231000    1840.000000    7620.000000  \n",
       "75%    98118.000000     47.678000   -122.125000    2360.000000   10083.000000  \n",
       "max    98199.000000     47.777600   -121.315000    6210.000000  871200.000000  "
      ]
     },
     "execution_count": 5,
     "metadata": {},
     "output_type": "execute_result"
    }
   ],
   "source": [
    "df.describe()"
   ]
  },
  {
   "cell_type": "markdown",
   "metadata": {
    "id": "_Fouc9WAaKQC"
   },
   "source": [
    "### Handling Missing Values"
   ]
  },
  {
   "cell_type": "code",
   "execution_count": 6,
   "metadata": {
    "colab": {
     "base_uri": "https://localhost:8080/"
    },
    "id": "YKXvvDP4aKQD",
    "outputId": "c03e92de-8e5d-42c5-b1d0-857628fec4ea"
   },
   "outputs": [
    {
     "data": {
      "text/plain": [
       "id                  0\n",
       "date                0\n",
       "price               0\n",
       "bedrooms            0\n",
       "bathrooms           0\n",
       "sqft_living         0\n",
       "sqft_lot            0\n",
       "floors              0\n",
       "waterfront       2376\n",
       "view               63\n",
       "condition           0\n",
       "grade               0\n",
       "sqft_above          0\n",
       "sqft_basement       0\n",
       "yr_built            0\n",
       "yr_renovated     3842\n",
       "zipcode             0\n",
       "lat                 0\n",
       "long                0\n",
       "sqft_living15       0\n",
       "sqft_lot15          0\n",
       "dtype: int64"
      ]
     },
     "execution_count": 6,
     "metadata": {},
     "output_type": "execute_result"
    }
   ],
   "source": [
    "df.isna().sum()"
   ]
  },
  {
   "cell_type": "code",
   "execution_count": 7,
   "metadata": {
    "colab": {
     "base_uri": "https://localhost:8080/"
    },
    "id": "D7NHwNMyaKQD",
    "outputId": "22011bcc-750a-44d7-8990-0eda3b778472"
   },
   "outputs": [
    {
     "name": "stdout",
     "output_type": "stream",
     "text": [
      "21597\n",
      "2\n",
      "[nan 'NO' 'YES']\n",
      "NO     19075\n",
      "YES      146\n",
      "Name: waterfront, dtype: int64\n"
     ]
    }
   ],
   "source": [
    "print(df['waterfront'].isnull().count())\n",
    "print(df['waterfront'].nunique())\n",
    "print(df['waterfront'].unique())\n",
    "print(df['waterfront'].value_counts())"
   ]
  },
  {
   "cell_type": "code",
   "execution_count": 8,
   "metadata": {
    "colab": {
     "base_uri": "https://localhost:8080/"
    },
    "id": "gJ1NHxlVaKQD",
    "outputId": "363e345e-d2cf-4ad0-cb6c-4f08bfec15e1"
   },
   "outputs": [
    {
     "name": "stdout",
     "output_type": "stream",
     "text": [
      "5\n",
      "['NONE' nan 'GOOD' 'EXCELLENT' 'AVERAGE' 'FAIR']\n",
      "NONE         19422\n",
      "AVERAGE        957\n",
      "GOOD           508\n",
      "FAIR           330\n",
      "EXCELLENT      317\n",
      "Name: view, dtype: int64\n"
     ]
    }
   ],
   "source": [
    "print(df['view'].nunique())\n",
    "print(df['view'].unique())\n",
    "print(df['view'].value_counts())"
   ]
  },
  {
   "cell_type": "code",
   "execution_count": 9,
   "metadata": {
    "colab": {
     "base_uri": "https://localhost:8080/"
    },
    "id": "1-JWklNkaKQE",
    "outputId": "553a7444-0352-4d0f-95d1-4039d9b0c80e"
   },
   "outputs": [
    {
     "name": "stdout",
     "output_type": "stream",
     "text": [
      "70\n",
      "[   0. 1991.   nan 2002. 2010. 1992. 2013. 1994. 1978. 2005. 2003. 1984.\n",
      " 1954. 2014. 2011. 1983. 1945. 1990. 1988. 1977. 1981. 1995. 2000. 1999.\n",
      " 1998. 1970. 1989. 2004. 1986. 2007. 1987. 2006. 1985. 2001. 1980. 1971.\n",
      " 1979. 1997. 1950. 1969. 1948. 2009. 2015. 1974. 2008. 1968. 2012. 1963.\n",
      " 1951. 1962. 1953. 1993. 1996. 1955. 1982. 1956. 1940. 1976. 1946. 1975.\n",
      " 1964. 1973. 1957. 1959. 1960. 1967. 1965. 1934. 1972. 1944. 1958.]\n"
     ]
    }
   ],
   "source": [
    "print(df['yr_renovated'].nunique())\n",
    "print(df['yr_renovated'].unique())"
   ]
  },
  {
   "cell_type": "code",
   "execution_count": 10,
   "metadata": {
    "colab": {
     "base_uri": "https://localhost:8080/"
    },
    "id": "uU9cmDpbaKQE",
    "outputId": "e4f938ec-6435-48be-990d-0a0419509814"
   },
   "outputs": [
    {
     "name": "stdout",
     "output_type": "stream",
     "text": [
      "6\n",
      "[1.  2.  1.5 3.  2.5 3.5]\n",
      "1.0    10673\n",
      "2.0     8235\n",
      "1.5     1910\n",
      "3.0      611\n",
      "2.5      161\n",
      "3.5        7\n",
      "Name: floors, dtype: int64\n"
     ]
    }
   ],
   "source": [
    "print(df['floors'].nunique())\n",
    "print(df['floors'].unique())\n",
    "print(df['floors'].value_counts())"
   ]
  },
  {
   "cell_type": "code",
   "execution_count": 11,
   "metadata": {
    "id": "_6i6-54yaKQE"
   },
   "outputs": [],
   "source": [
    "df['yr_renovated'].fillna(0,inplace=True)"
   ]
  },
  {
   "cell_type": "code",
   "execution_count": 12,
   "metadata": {
    "id": "GWHFOJDQaKQE"
   },
   "outputs": [],
   "source": [
    "df['view'].fillna('NONE', inplace=True)"
   ]
  },
  {
   "cell_type": "code",
   "execution_count": 13,
   "metadata": {
    "id": "nPWMDgteaKQE"
   },
   "outputs": [],
   "source": [
    "df['waterfront'].fillna('NO', inplace=True)"
   ]
  },
  {
   "cell_type": "markdown",
   "metadata": {
    "id": "u2DBGNafaKQE"
   },
   "source": [
    "0.0 yr_renovated is not actually information that is missing from our dataset, it is a genuine category which means the house has never been renovated. This interpretation aligns with what we see in data/column_names.txt. So, let's replace those NaNs with the string \"N/A\" to indicate that this is a real category, not missing data:"
   ]
  },
  {
   "cell_type": "code",
   "execution_count": 14,
   "metadata": {
    "colab": {
     "base_uri": "https://localhost:8080/"
    },
    "id": "PskjCITQaKQF",
    "outputId": "b1079deb-97c4-410e-a2a3-9c9a25329cfe"
   },
   "outputs": [
    {
     "data": {
      "text/plain": [
       "id               0\n",
       "date             0\n",
       "price            0\n",
       "bedrooms         0\n",
       "bathrooms        0\n",
       "sqft_living      0\n",
       "sqft_lot         0\n",
       "floors           0\n",
       "waterfront       0\n",
       "view             0\n",
       "condition        0\n",
       "grade            0\n",
       "sqft_above       0\n",
       "sqft_basement    0\n",
       "yr_built         0\n",
       "yr_renovated     0\n",
       "zipcode          0\n",
       "lat              0\n",
       "long             0\n",
       "sqft_living15    0\n",
       "sqft_lot15       0\n",
       "dtype: int64"
      ]
     },
     "execution_count": 14,
     "metadata": {},
     "output_type": "execute_result"
    }
   ],
   "source": [
    "df.isna().sum()"
   ]
  },
  {
   "cell_type": "code",
   "execution_count": 15,
   "metadata": {
    "colab": {
     "base_uri": "https://localhost:8080/",
     "height": 661
    },
    "id": "VShVr7IhaKQF",
    "outputId": "6c982d85-7a15-4093-fae2-1b686d0c754f"
   },
   "outputs": [
    {
     "data": {
      "text/html": [
       "<div>\n",
       "<style scoped>\n",
       "    .dataframe tbody tr th:only-of-type {\n",
       "        vertical-align: middle;\n",
       "    }\n",
       "\n",
       "    .dataframe tbody tr th {\n",
       "        vertical-align: top;\n",
       "    }\n",
       "\n",
       "    .dataframe thead th {\n",
       "        text-align: right;\n",
       "    }\n",
       "</style>\n",
       "<table border=\"1\" class=\"dataframe\">\n",
       "  <thead>\n",
       "    <tr style=\"text-align: right;\">\n",
       "      <th></th>\n",
       "      <th>id</th>\n",
       "      <th>date</th>\n",
       "      <th>price</th>\n",
       "      <th>bedrooms</th>\n",
       "      <th>bathrooms</th>\n",
       "      <th>sqft_living</th>\n",
       "      <th>sqft_lot</th>\n",
       "      <th>floors</th>\n",
       "      <th>waterfront</th>\n",
       "      <th>view</th>\n",
       "      <th>...</th>\n",
       "      <th>grade</th>\n",
       "      <th>sqft_above</th>\n",
       "      <th>sqft_basement</th>\n",
       "      <th>yr_built</th>\n",
       "      <th>yr_renovated</th>\n",
       "      <th>zipcode</th>\n",
       "      <th>lat</th>\n",
       "      <th>long</th>\n",
       "      <th>sqft_living15</th>\n",
       "      <th>sqft_lot15</th>\n",
       "    </tr>\n",
       "  </thead>\n",
       "  <tbody>\n",
       "    <tr>\n",
       "      <th>0</th>\n",
       "      <td>7129300520</td>\n",
       "      <td>2014-10-13</td>\n",
       "      <td>221900.0</td>\n",
       "      <td>3</td>\n",
       "      <td>1.00</td>\n",
       "      <td>1180</td>\n",
       "      <td>5650</td>\n",
       "      <td>1.0</td>\n",
       "      <td>NO</td>\n",
       "      <td>NONE</td>\n",
       "      <td>...</td>\n",
       "      <td>7 Average</td>\n",
       "      <td>1180</td>\n",
       "      <td>0.0</td>\n",
       "      <td>1955</td>\n",
       "      <td>0.0</td>\n",
       "      <td>98178</td>\n",
       "      <td>47.5112</td>\n",
       "      <td>-122.257</td>\n",
       "      <td>1340</td>\n",
       "      <td>5650</td>\n",
       "    </tr>\n",
       "    <tr>\n",
       "      <th>1</th>\n",
       "      <td>6414100192</td>\n",
       "      <td>2014-12-09</td>\n",
       "      <td>538000.0</td>\n",
       "      <td>3</td>\n",
       "      <td>2.25</td>\n",
       "      <td>2570</td>\n",
       "      <td>7242</td>\n",
       "      <td>2.0</td>\n",
       "      <td>NO</td>\n",
       "      <td>NONE</td>\n",
       "      <td>...</td>\n",
       "      <td>7 Average</td>\n",
       "      <td>2170</td>\n",
       "      <td>400.0</td>\n",
       "      <td>1951</td>\n",
       "      <td>1991.0</td>\n",
       "      <td>98125</td>\n",
       "      <td>47.7210</td>\n",
       "      <td>-122.319</td>\n",
       "      <td>1690</td>\n",
       "      <td>7639</td>\n",
       "    </tr>\n",
       "    <tr>\n",
       "      <th>2</th>\n",
       "      <td>5631500400</td>\n",
       "      <td>2015-02-25</td>\n",
       "      <td>180000.0</td>\n",
       "      <td>2</td>\n",
       "      <td>1.00</td>\n",
       "      <td>770</td>\n",
       "      <td>10000</td>\n",
       "      <td>1.0</td>\n",
       "      <td>NO</td>\n",
       "      <td>NONE</td>\n",
       "      <td>...</td>\n",
       "      <td>6 Low Average</td>\n",
       "      <td>770</td>\n",
       "      <td>0.0</td>\n",
       "      <td>1933</td>\n",
       "      <td>0.0</td>\n",
       "      <td>98028</td>\n",
       "      <td>47.7379</td>\n",
       "      <td>-122.233</td>\n",
       "      <td>2720</td>\n",
       "      <td>8062</td>\n",
       "    </tr>\n",
       "    <tr>\n",
       "      <th>3</th>\n",
       "      <td>2487200875</td>\n",
       "      <td>2014-12-09</td>\n",
       "      <td>604000.0</td>\n",
       "      <td>4</td>\n",
       "      <td>3.00</td>\n",
       "      <td>1960</td>\n",
       "      <td>5000</td>\n",
       "      <td>1.0</td>\n",
       "      <td>NO</td>\n",
       "      <td>NONE</td>\n",
       "      <td>...</td>\n",
       "      <td>7 Average</td>\n",
       "      <td>1050</td>\n",
       "      <td>910.0</td>\n",
       "      <td>1965</td>\n",
       "      <td>0.0</td>\n",
       "      <td>98136</td>\n",
       "      <td>47.5208</td>\n",
       "      <td>-122.393</td>\n",
       "      <td>1360</td>\n",
       "      <td>5000</td>\n",
       "    </tr>\n",
       "    <tr>\n",
       "      <th>4</th>\n",
       "      <td>1954400510</td>\n",
       "      <td>2015-02-18</td>\n",
       "      <td>510000.0</td>\n",
       "      <td>3</td>\n",
       "      <td>2.00</td>\n",
       "      <td>1680</td>\n",
       "      <td>8080</td>\n",
       "      <td>1.0</td>\n",
       "      <td>NO</td>\n",
       "      <td>NONE</td>\n",
       "      <td>...</td>\n",
       "      <td>8 Good</td>\n",
       "      <td>1680</td>\n",
       "      <td>0.0</td>\n",
       "      <td>1987</td>\n",
       "      <td>0.0</td>\n",
       "      <td>98074</td>\n",
       "      <td>47.6168</td>\n",
       "      <td>-122.045</td>\n",
       "      <td>1800</td>\n",
       "      <td>7503</td>\n",
       "    </tr>\n",
       "    <tr>\n",
       "      <th>...</th>\n",
       "      <td>...</td>\n",
       "      <td>...</td>\n",
       "      <td>...</td>\n",
       "      <td>...</td>\n",
       "      <td>...</td>\n",
       "      <td>...</td>\n",
       "      <td>...</td>\n",
       "      <td>...</td>\n",
       "      <td>...</td>\n",
       "      <td>...</td>\n",
       "      <td>...</td>\n",
       "      <td>...</td>\n",
       "      <td>...</td>\n",
       "      <td>...</td>\n",
       "      <td>...</td>\n",
       "      <td>...</td>\n",
       "      <td>...</td>\n",
       "      <td>...</td>\n",
       "      <td>...</td>\n",
       "      <td>...</td>\n",
       "      <td>...</td>\n",
       "    </tr>\n",
       "    <tr>\n",
       "      <th>21592</th>\n",
       "      <td>263000018</td>\n",
       "      <td>2014-05-21</td>\n",
       "      <td>360000.0</td>\n",
       "      <td>3</td>\n",
       "      <td>2.50</td>\n",
       "      <td>1530</td>\n",
       "      <td>1131</td>\n",
       "      <td>3.0</td>\n",
       "      <td>NO</td>\n",
       "      <td>NONE</td>\n",
       "      <td>...</td>\n",
       "      <td>8 Good</td>\n",
       "      <td>1530</td>\n",
       "      <td>0.0</td>\n",
       "      <td>2009</td>\n",
       "      <td>0.0</td>\n",
       "      <td>98103</td>\n",
       "      <td>47.6993</td>\n",
       "      <td>-122.346</td>\n",
       "      <td>1530</td>\n",
       "      <td>1509</td>\n",
       "    </tr>\n",
       "    <tr>\n",
       "      <th>21593</th>\n",
       "      <td>6600060120</td>\n",
       "      <td>2015-02-23</td>\n",
       "      <td>400000.0</td>\n",
       "      <td>4</td>\n",
       "      <td>2.50</td>\n",
       "      <td>2310</td>\n",
       "      <td>5813</td>\n",
       "      <td>2.0</td>\n",
       "      <td>NO</td>\n",
       "      <td>NONE</td>\n",
       "      <td>...</td>\n",
       "      <td>8 Good</td>\n",
       "      <td>2310</td>\n",
       "      <td>0.0</td>\n",
       "      <td>2014</td>\n",
       "      <td>0.0</td>\n",
       "      <td>98146</td>\n",
       "      <td>47.5107</td>\n",
       "      <td>-122.362</td>\n",
       "      <td>1830</td>\n",
       "      <td>7200</td>\n",
       "    </tr>\n",
       "    <tr>\n",
       "      <th>21594</th>\n",
       "      <td>1523300141</td>\n",
       "      <td>2014-06-23</td>\n",
       "      <td>402101.0</td>\n",
       "      <td>2</td>\n",
       "      <td>0.75</td>\n",
       "      <td>1020</td>\n",
       "      <td>1350</td>\n",
       "      <td>2.0</td>\n",
       "      <td>NO</td>\n",
       "      <td>NONE</td>\n",
       "      <td>...</td>\n",
       "      <td>7 Average</td>\n",
       "      <td>1020</td>\n",
       "      <td>0.0</td>\n",
       "      <td>2009</td>\n",
       "      <td>0.0</td>\n",
       "      <td>98144</td>\n",
       "      <td>47.5944</td>\n",
       "      <td>-122.299</td>\n",
       "      <td>1020</td>\n",
       "      <td>2007</td>\n",
       "    </tr>\n",
       "    <tr>\n",
       "      <th>21595</th>\n",
       "      <td>291310100</td>\n",
       "      <td>2015-01-16</td>\n",
       "      <td>400000.0</td>\n",
       "      <td>3</td>\n",
       "      <td>2.50</td>\n",
       "      <td>1600</td>\n",
       "      <td>2388</td>\n",
       "      <td>2.0</td>\n",
       "      <td>NO</td>\n",
       "      <td>NONE</td>\n",
       "      <td>...</td>\n",
       "      <td>8 Good</td>\n",
       "      <td>1600</td>\n",
       "      <td>0.0</td>\n",
       "      <td>2004</td>\n",
       "      <td>0.0</td>\n",
       "      <td>98027</td>\n",
       "      <td>47.5345</td>\n",
       "      <td>-122.069</td>\n",
       "      <td>1410</td>\n",
       "      <td>1287</td>\n",
       "    </tr>\n",
       "    <tr>\n",
       "      <th>21596</th>\n",
       "      <td>1523300157</td>\n",
       "      <td>2014-10-15</td>\n",
       "      <td>325000.0</td>\n",
       "      <td>2</td>\n",
       "      <td>0.75</td>\n",
       "      <td>1020</td>\n",
       "      <td>1076</td>\n",
       "      <td>2.0</td>\n",
       "      <td>NO</td>\n",
       "      <td>NONE</td>\n",
       "      <td>...</td>\n",
       "      <td>7 Average</td>\n",
       "      <td>1020</td>\n",
       "      <td>0.0</td>\n",
       "      <td>2008</td>\n",
       "      <td>0.0</td>\n",
       "      <td>98144</td>\n",
       "      <td>47.5941</td>\n",
       "      <td>-122.299</td>\n",
       "      <td>1020</td>\n",
       "      <td>1357</td>\n",
       "    </tr>\n",
       "  </tbody>\n",
       "</table>\n",
       "<p>21597 rows × 21 columns</p>\n",
       "</div>"
      ],
      "text/plain": [
       "               id       date     price  bedrooms  bathrooms  sqft_living  \\\n",
       "0      7129300520 2014-10-13  221900.0         3       1.00         1180   \n",
       "1      6414100192 2014-12-09  538000.0         3       2.25         2570   \n",
       "2      5631500400 2015-02-25  180000.0         2       1.00          770   \n",
       "3      2487200875 2014-12-09  604000.0         4       3.00         1960   \n",
       "4      1954400510 2015-02-18  510000.0         3       2.00         1680   \n",
       "...           ...        ...       ...       ...        ...          ...   \n",
       "21592   263000018 2014-05-21  360000.0         3       2.50         1530   \n",
       "21593  6600060120 2015-02-23  400000.0         4       2.50         2310   \n",
       "21594  1523300141 2014-06-23  402101.0         2       0.75         1020   \n",
       "21595   291310100 2015-01-16  400000.0         3       2.50         1600   \n",
       "21596  1523300157 2014-10-15  325000.0         2       0.75         1020   \n",
       "\n",
       "       sqft_lot  floors waterfront  view  ...          grade sqft_above  \\\n",
       "0          5650     1.0         NO  NONE  ...      7 Average       1180   \n",
       "1          7242     2.0         NO  NONE  ...      7 Average       2170   \n",
       "2         10000     1.0         NO  NONE  ...  6 Low Average        770   \n",
       "3          5000     1.0         NO  NONE  ...      7 Average       1050   \n",
       "4          8080     1.0         NO  NONE  ...         8 Good       1680   \n",
       "...         ...     ...        ...   ...  ...            ...        ...   \n",
       "21592      1131     3.0         NO  NONE  ...         8 Good       1530   \n",
       "21593      5813     2.0         NO  NONE  ...         8 Good       2310   \n",
       "21594      1350     2.0         NO  NONE  ...      7 Average       1020   \n",
       "21595      2388     2.0         NO  NONE  ...         8 Good       1600   \n",
       "21596      1076     2.0         NO  NONE  ...      7 Average       1020   \n",
       "\n",
       "       sqft_basement yr_built  yr_renovated  zipcode      lat     long  \\\n",
       "0                0.0     1955           0.0    98178  47.5112 -122.257   \n",
       "1              400.0     1951        1991.0    98125  47.7210 -122.319   \n",
       "2                0.0     1933           0.0    98028  47.7379 -122.233   \n",
       "3              910.0     1965           0.0    98136  47.5208 -122.393   \n",
       "4                0.0     1987           0.0    98074  47.6168 -122.045   \n",
       "...              ...      ...           ...      ...      ...      ...   \n",
       "21592            0.0     2009           0.0    98103  47.6993 -122.346   \n",
       "21593            0.0     2014           0.0    98146  47.5107 -122.362   \n",
       "21594            0.0     2009           0.0    98144  47.5944 -122.299   \n",
       "21595            0.0     2004           0.0    98027  47.5345 -122.069   \n",
       "21596            0.0     2008           0.0    98144  47.5941 -122.299   \n",
       "\n",
       "       sqft_living15  sqft_lot15  \n",
       "0               1340        5650  \n",
       "1               1690        7639  \n",
       "2               2720        8062  \n",
       "3               1360        5000  \n",
       "4               1800        7503  \n",
       "...              ...         ...  \n",
       "21592           1530        1509  \n",
       "21593           1830        7200  \n",
       "21594           1020        2007  \n",
       "21595           1410        1287  \n",
       "21596           1020        1357  \n",
       "\n",
       "[21597 rows x 21 columns]"
      ]
     },
     "execution_count": 15,
     "metadata": {},
     "output_type": "execute_result"
    }
   ],
   "source": [
    "df['date'] = pd.to_datetime(df['date'])\n",
    "df"
   ]
  },
  {
   "cell_type": "code",
   "execution_count": 16,
   "metadata": {
    "id": "mvJ62bTKaKQF"
   },
   "outputs": [],
   "source": [
    "df[\"month\"] = df[\"date\"].dt.month"
   ]
  },
  {
   "cell_type": "code",
   "execution_count": 17,
   "metadata": {
    "id": "RZ1pLD7LaKQF"
   },
   "outputs": [],
   "source": [
    " def getSeason(month):\n",
    "    if (month > 11 or month <= 2):\n",
    "       return \"Winter\"\n",
    "    elif (month >= 3 and month <= 5):\n",
    "       return \"Spring\"\n",
    "    elif (month >=6 and month <= 8):\n",
    "       return \"Summer\"\n",
    "    else:\n",
    "       return \"Fall\""
   ]
  },
  {
   "cell_type": "code",
   "execution_count": 18,
   "metadata": {
    "id": "oztK2CxmaKQF"
   },
   "outputs": [],
   "source": [
    "df[\"season\"] = df[\"month\"].apply(getSeason)"
   ]
  },
  {
   "cell_type": "code",
   "execution_count": 19,
   "metadata": {
    "colab": {
     "base_uri": "https://localhost:8080/"
    },
    "id": "2YOhFg8qaKQF",
    "outputId": "b6bc0a26-34ab-4ff9-99ef-a7f44b8a1e6e"
   },
   "outputs": [
    {
     "name": "stdout",
     "output_type": "stream",
     "text": [
      "Spring    6518\n",
      "Summer    6328\n",
      "Fall      5056\n",
      "Winter    3695\n",
      "Name: season, dtype: int64\n"
     ]
    }
   ],
   "source": [
    "print(df['season'].value_counts())"
   ]
  },
  {
   "cell_type": "code",
   "execution_count": 20,
   "metadata": {
    "id": "jqQ9sNuFaKQG"
   },
   "outputs": [],
   "source": [
    "df.sqft_basement = df.sqft_basement.replace('?', '0.0')"
   ]
  },
  {
   "cell_type": "code",
   "execution_count": 21,
   "metadata": {
    "id": "uxvSVrUHaKQG"
   },
   "outputs": [],
   "source": [
    "df.sqft_basement = df.sqft_basement.astype('float')"
   ]
  },
  {
   "cell_type": "code",
   "execution_count": 22,
   "metadata": {
    "id": "_o7dyTyxaKQG"
   },
   "outputs": [],
   "source": [
    "df.floors = df.floors.astype('object')"
   ]
  },
  {
   "cell_type": "code",
   "execution_count": 23,
   "metadata": {
    "id": "LXMCUsipaKQG"
   },
   "outputs": [],
   "source": [
    "df.sqft_basement = df.sqft_basement.astype(np.dtype('int64')) #converts column from float to int64, in line with the other similar columns"
   ]
  },
  {
   "cell_type": "code",
   "execution_count": 24,
   "metadata": {
    "id": "h-Y4FhN5aKQG"
   },
   "outputs": [],
   "source": [
    "df.yr_renovated = df.yr_renovated.astype(np.dtype('int64'))"
   ]
  },
  {
   "cell_type": "markdown",
   "metadata": {
    "id": "auQkF3fRaKQG"
   },
   "source": [
    "It's advisable to remove the `id` column as keeping it in won't lead to meaningful results."
   ]
  },
  {
   "cell_type": "code",
   "execution_count": 25,
   "metadata": {
    "id": "dLZwqegyaKQG"
   },
   "outputs": [],
   "source": [
    "df.drop([\"id\"],axis=1, inplace=True)"
   ]
  },
  {
   "cell_type": "code",
   "execution_count": 26,
   "metadata": {
    "colab": {
     "base_uri": "https://localhost:8080/",
     "height": 1000
    },
    "id": "eAsMHjlgaKQG",
    "outputId": "3a5c50a5-eea8-41a2-b32c-1d701c84a91c"
   },
   "outputs": [
    {
     "data": {
      "text/html": [
       "<div>\n",
       "<style scoped>\n",
       "    .dataframe tbody tr th:only-of-type {\n",
       "        vertical-align: middle;\n",
       "    }\n",
       "\n",
       "    .dataframe tbody tr th {\n",
       "        vertical-align: top;\n",
       "    }\n",
       "\n",
       "    .dataframe thead th {\n",
       "        text-align: right;\n",
       "    }\n",
       "</style>\n",
       "<table border=\"1\" class=\"dataframe\">\n",
       "  <thead>\n",
       "    <tr style=\"text-align: right;\">\n",
       "      <th></th>\n",
       "      <th>date</th>\n",
       "      <th>price</th>\n",
       "      <th>bedrooms</th>\n",
       "      <th>bathrooms</th>\n",
       "      <th>sqft_living</th>\n",
       "      <th>sqft_lot</th>\n",
       "      <th>floors</th>\n",
       "      <th>waterfront</th>\n",
       "      <th>view</th>\n",
       "      <th>condition</th>\n",
       "      <th>...</th>\n",
       "      <th>sqft_basement</th>\n",
       "      <th>yr_built</th>\n",
       "      <th>yr_renovated</th>\n",
       "      <th>zipcode</th>\n",
       "      <th>lat</th>\n",
       "      <th>long</th>\n",
       "      <th>sqft_living15</th>\n",
       "      <th>sqft_lot15</th>\n",
       "      <th>month</th>\n",
       "      <th>season</th>\n",
       "    </tr>\n",
       "  </thead>\n",
       "  <tbody>\n",
       "    <tr>\n",
       "      <th>0</th>\n",
       "      <td>2014-10-13</td>\n",
       "      <td>221900.0</td>\n",
       "      <td>3</td>\n",
       "      <td>1.00</td>\n",
       "      <td>1180</td>\n",
       "      <td>5650</td>\n",
       "      <td>1</td>\n",
       "      <td>NO</td>\n",
       "      <td>NONE</td>\n",
       "      <td>Average</td>\n",
       "      <td>...</td>\n",
       "      <td>0</td>\n",
       "      <td>1955</td>\n",
       "      <td>0</td>\n",
       "      <td>98178</td>\n",
       "      <td>47.5112</td>\n",
       "      <td>-122.257</td>\n",
       "      <td>1340</td>\n",
       "      <td>5650</td>\n",
       "      <td>10</td>\n",
       "      <td>Fall</td>\n",
       "    </tr>\n",
       "    <tr>\n",
       "      <th>1</th>\n",
       "      <td>2014-12-09</td>\n",
       "      <td>538000.0</td>\n",
       "      <td>3</td>\n",
       "      <td>2.25</td>\n",
       "      <td>2570</td>\n",
       "      <td>7242</td>\n",
       "      <td>2</td>\n",
       "      <td>NO</td>\n",
       "      <td>NONE</td>\n",
       "      <td>Average</td>\n",
       "      <td>...</td>\n",
       "      <td>400</td>\n",
       "      <td>1951</td>\n",
       "      <td>1991</td>\n",
       "      <td>98125</td>\n",
       "      <td>47.7210</td>\n",
       "      <td>-122.319</td>\n",
       "      <td>1690</td>\n",
       "      <td>7639</td>\n",
       "      <td>12</td>\n",
       "      <td>Winter</td>\n",
       "    </tr>\n",
       "    <tr>\n",
       "      <th>2</th>\n",
       "      <td>2015-02-25</td>\n",
       "      <td>180000.0</td>\n",
       "      <td>2</td>\n",
       "      <td>1.00</td>\n",
       "      <td>770</td>\n",
       "      <td>10000</td>\n",
       "      <td>1</td>\n",
       "      <td>NO</td>\n",
       "      <td>NONE</td>\n",
       "      <td>Average</td>\n",
       "      <td>...</td>\n",
       "      <td>0</td>\n",
       "      <td>1933</td>\n",
       "      <td>0</td>\n",
       "      <td>98028</td>\n",
       "      <td>47.7379</td>\n",
       "      <td>-122.233</td>\n",
       "      <td>2720</td>\n",
       "      <td>8062</td>\n",
       "      <td>2</td>\n",
       "      <td>Winter</td>\n",
       "    </tr>\n",
       "    <tr>\n",
       "      <th>3</th>\n",
       "      <td>2014-12-09</td>\n",
       "      <td>604000.0</td>\n",
       "      <td>4</td>\n",
       "      <td>3.00</td>\n",
       "      <td>1960</td>\n",
       "      <td>5000</td>\n",
       "      <td>1</td>\n",
       "      <td>NO</td>\n",
       "      <td>NONE</td>\n",
       "      <td>Very Good</td>\n",
       "      <td>...</td>\n",
       "      <td>910</td>\n",
       "      <td>1965</td>\n",
       "      <td>0</td>\n",
       "      <td>98136</td>\n",
       "      <td>47.5208</td>\n",
       "      <td>-122.393</td>\n",
       "      <td>1360</td>\n",
       "      <td>5000</td>\n",
       "      <td>12</td>\n",
       "      <td>Winter</td>\n",
       "    </tr>\n",
       "    <tr>\n",
       "      <th>4</th>\n",
       "      <td>2015-02-18</td>\n",
       "      <td>510000.0</td>\n",
       "      <td>3</td>\n",
       "      <td>2.00</td>\n",
       "      <td>1680</td>\n",
       "      <td>8080</td>\n",
       "      <td>1</td>\n",
       "      <td>NO</td>\n",
       "      <td>NONE</td>\n",
       "      <td>Average</td>\n",
       "      <td>...</td>\n",
       "      <td>0</td>\n",
       "      <td>1987</td>\n",
       "      <td>0</td>\n",
       "      <td>98074</td>\n",
       "      <td>47.6168</td>\n",
       "      <td>-122.045</td>\n",
       "      <td>1800</td>\n",
       "      <td>7503</td>\n",
       "      <td>2</td>\n",
       "      <td>Winter</td>\n",
       "    </tr>\n",
       "    <tr>\n",
       "      <th>5</th>\n",
       "      <td>2014-05-12</td>\n",
       "      <td>1230000.0</td>\n",
       "      <td>4</td>\n",
       "      <td>4.50</td>\n",
       "      <td>5420</td>\n",
       "      <td>101930</td>\n",
       "      <td>1</td>\n",
       "      <td>NO</td>\n",
       "      <td>NONE</td>\n",
       "      <td>Average</td>\n",
       "      <td>...</td>\n",
       "      <td>1530</td>\n",
       "      <td>2001</td>\n",
       "      <td>0</td>\n",
       "      <td>98053</td>\n",
       "      <td>47.6561</td>\n",
       "      <td>-122.005</td>\n",
       "      <td>4760</td>\n",
       "      <td>101930</td>\n",
       "      <td>5</td>\n",
       "      <td>Spring</td>\n",
       "    </tr>\n",
       "    <tr>\n",
       "      <th>6</th>\n",
       "      <td>2014-06-27</td>\n",
       "      <td>257500.0</td>\n",
       "      <td>3</td>\n",
       "      <td>2.25</td>\n",
       "      <td>1715</td>\n",
       "      <td>6819</td>\n",
       "      <td>2</td>\n",
       "      <td>NO</td>\n",
       "      <td>NONE</td>\n",
       "      <td>Average</td>\n",
       "      <td>...</td>\n",
       "      <td>0</td>\n",
       "      <td>1995</td>\n",
       "      <td>0</td>\n",
       "      <td>98003</td>\n",
       "      <td>47.3097</td>\n",
       "      <td>-122.327</td>\n",
       "      <td>2238</td>\n",
       "      <td>6819</td>\n",
       "      <td>6</td>\n",
       "      <td>Summer</td>\n",
       "    </tr>\n",
       "    <tr>\n",
       "      <th>7</th>\n",
       "      <td>2015-01-15</td>\n",
       "      <td>291850.0</td>\n",
       "      <td>3</td>\n",
       "      <td>1.50</td>\n",
       "      <td>1060</td>\n",
       "      <td>9711</td>\n",
       "      <td>1</td>\n",
       "      <td>NO</td>\n",
       "      <td>NONE</td>\n",
       "      <td>Average</td>\n",
       "      <td>...</td>\n",
       "      <td>0</td>\n",
       "      <td>1963</td>\n",
       "      <td>0</td>\n",
       "      <td>98198</td>\n",
       "      <td>47.4095</td>\n",
       "      <td>-122.315</td>\n",
       "      <td>1650</td>\n",
       "      <td>9711</td>\n",
       "      <td>1</td>\n",
       "      <td>Winter</td>\n",
       "    </tr>\n",
       "    <tr>\n",
       "      <th>8</th>\n",
       "      <td>2015-04-15</td>\n",
       "      <td>229500.0</td>\n",
       "      <td>3</td>\n",
       "      <td>1.00</td>\n",
       "      <td>1780</td>\n",
       "      <td>7470</td>\n",
       "      <td>1</td>\n",
       "      <td>NO</td>\n",
       "      <td>NONE</td>\n",
       "      <td>Average</td>\n",
       "      <td>...</td>\n",
       "      <td>730</td>\n",
       "      <td>1960</td>\n",
       "      <td>0</td>\n",
       "      <td>98146</td>\n",
       "      <td>47.5123</td>\n",
       "      <td>-122.337</td>\n",
       "      <td>1780</td>\n",
       "      <td>8113</td>\n",
       "      <td>4</td>\n",
       "      <td>Spring</td>\n",
       "    </tr>\n",
       "    <tr>\n",
       "      <th>9</th>\n",
       "      <td>2015-03-12</td>\n",
       "      <td>323000.0</td>\n",
       "      <td>3</td>\n",
       "      <td>2.50</td>\n",
       "      <td>1890</td>\n",
       "      <td>6560</td>\n",
       "      <td>2</td>\n",
       "      <td>NO</td>\n",
       "      <td>NONE</td>\n",
       "      <td>Average</td>\n",
       "      <td>...</td>\n",
       "      <td>0</td>\n",
       "      <td>2003</td>\n",
       "      <td>0</td>\n",
       "      <td>98038</td>\n",
       "      <td>47.3684</td>\n",
       "      <td>-122.031</td>\n",
       "      <td>2390</td>\n",
       "      <td>7570</td>\n",
       "      <td>3</td>\n",
       "      <td>Spring</td>\n",
       "    </tr>\n",
       "    <tr>\n",
       "      <th>10</th>\n",
       "      <td>2015-04-03</td>\n",
       "      <td>662500.0</td>\n",
       "      <td>3</td>\n",
       "      <td>2.50</td>\n",
       "      <td>3560</td>\n",
       "      <td>9796</td>\n",
       "      <td>1</td>\n",
       "      <td>NO</td>\n",
       "      <td>NONE</td>\n",
       "      <td>Average</td>\n",
       "      <td>...</td>\n",
       "      <td>1700</td>\n",
       "      <td>1965</td>\n",
       "      <td>0</td>\n",
       "      <td>98007</td>\n",
       "      <td>47.6007</td>\n",
       "      <td>-122.145</td>\n",
       "      <td>2210</td>\n",
       "      <td>8925</td>\n",
       "      <td>4</td>\n",
       "      <td>Spring</td>\n",
       "    </tr>\n",
       "    <tr>\n",
       "      <th>11</th>\n",
       "      <td>2014-05-27</td>\n",
       "      <td>468000.0</td>\n",
       "      <td>2</td>\n",
       "      <td>1.00</td>\n",
       "      <td>1160</td>\n",
       "      <td>6000</td>\n",
       "      <td>1</td>\n",
       "      <td>NO</td>\n",
       "      <td>NONE</td>\n",
       "      <td>Good</td>\n",
       "      <td>...</td>\n",
       "      <td>300</td>\n",
       "      <td>1942</td>\n",
       "      <td>0</td>\n",
       "      <td>98115</td>\n",
       "      <td>47.6900</td>\n",
       "      <td>-122.292</td>\n",
       "      <td>1330</td>\n",
       "      <td>6000</td>\n",
       "      <td>5</td>\n",
       "      <td>Spring</td>\n",
       "    </tr>\n",
       "    <tr>\n",
       "      <th>12</th>\n",
       "      <td>2014-05-28</td>\n",
       "      <td>310000.0</td>\n",
       "      <td>3</td>\n",
       "      <td>1.00</td>\n",
       "      <td>1430</td>\n",
       "      <td>19901</td>\n",
       "      <td>1.5</td>\n",
       "      <td>NO</td>\n",
       "      <td>NONE</td>\n",
       "      <td>Good</td>\n",
       "      <td>...</td>\n",
       "      <td>0</td>\n",
       "      <td>1927</td>\n",
       "      <td>0</td>\n",
       "      <td>98028</td>\n",
       "      <td>47.7558</td>\n",
       "      <td>-122.229</td>\n",
       "      <td>1780</td>\n",
       "      <td>12697</td>\n",
       "      <td>5</td>\n",
       "      <td>Spring</td>\n",
       "    </tr>\n",
       "    <tr>\n",
       "      <th>13</th>\n",
       "      <td>2014-10-07</td>\n",
       "      <td>400000.0</td>\n",
       "      <td>3</td>\n",
       "      <td>1.75</td>\n",
       "      <td>1370</td>\n",
       "      <td>9680</td>\n",
       "      <td>1</td>\n",
       "      <td>NO</td>\n",
       "      <td>NONE</td>\n",
       "      <td>Good</td>\n",
       "      <td>...</td>\n",
       "      <td>0</td>\n",
       "      <td>1977</td>\n",
       "      <td>0</td>\n",
       "      <td>98074</td>\n",
       "      <td>47.6127</td>\n",
       "      <td>-122.045</td>\n",
       "      <td>1370</td>\n",
       "      <td>10208</td>\n",
       "      <td>10</td>\n",
       "      <td>Fall</td>\n",
       "    </tr>\n",
       "    <tr>\n",
       "      <th>14</th>\n",
       "      <td>2015-03-12</td>\n",
       "      <td>530000.0</td>\n",
       "      <td>5</td>\n",
       "      <td>2.00</td>\n",
       "      <td>1810</td>\n",
       "      <td>4850</td>\n",
       "      <td>1.5</td>\n",
       "      <td>NO</td>\n",
       "      <td>NONE</td>\n",
       "      <td>Average</td>\n",
       "      <td>...</td>\n",
       "      <td>0</td>\n",
       "      <td>1900</td>\n",
       "      <td>0</td>\n",
       "      <td>98107</td>\n",
       "      <td>47.6700</td>\n",
       "      <td>-122.394</td>\n",
       "      <td>1360</td>\n",
       "      <td>4850</td>\n",
       "      <td>3</td>\n",
       "      <td>Spring</td>\n",
       "    </tr>\n",
       "    <tr>\n",
       "      <th>15</th>\n",
       "      <td>2015-01-24</td>\n",
       "      <td>650000.0</td>\n",
       "      <td>4</td>\n",
       "      <td>3.00</td>\n",
       "      <td>2950</td>\n",
       "      <td>5000</td>\n",
       "      <td>2</td>\n",
       "      <td>NO</td>\n",
       "      <td>GOOD</td>\n",
       "      <td>Average</td>\n",
       "      <td>...</td>\n",
       "      <td>970</td>\n",
       "      <td>1979</td>\n",
       "      <td>0</td>\n",
       "      <td>98126</td>\n",
       "      <td>47.5714</td>\n",
       "      <td>-122.375</td>\n",
       "      <td>2140</td>\n",
       "      <td>4000</td>\n",
       "      <td>1</td>\n",
       "      <td>Winter</td>\n",
       "    </tr>\n",
       "    <tr>\n",
       "      <th>16</th>\n",
       "      <td>2014-07-31</td>\n",
       "      <td>395000.0</td>\n",
       "      <td>3</td>\n",
       "      <td>2.00</td>\n",
       "      <td>1890</td>\n",
       "      <td>14040</td>\n",
       "      <td>2</td>\n",
       "      <td>NO</td>\n",
       "      <td>NONE</td>\n",
       "      <td>Average</td>\n",
       "      <td>...</td>\n",
       "      <td>0</td>\n",
       "      <td>1994</td>\n",
       "      <td>0</td>\n",
       "      <td>98019</td>\n",
       "      <td>47.7277</td>\n",
       "      <td>-121.962</td>\n",
       "      <td>1890</td>\n",
       "      <td>14018</td>\n",
       "      <td>7</td>\n",
       "      <td>Summer</td>\n",
       "    </tr>\n",
       "    <tr>\n",
       "      <th>17</th>\n",
       "      <td>2014-05-29</td>\n",
       "      <td>485000.0</td>\n",
       "      <td>4</td>\n",
       "      <td>1.00</td>\n",
       "      <td>1600</td>\n",
       "      <td>4300</td>\n",
       "      <td>1.5</td>\n",
       "      <td>NO</td>\n",
       "      <td>NONE</td>\n",
       "      <td>Good</td>\n",
       "      <td>...</td>\n",
       "      <td>0</td>\n",
       "      <td>1916</td>\n",
       "      <td>0</td>\n",
       "      <td>98103</td>\n",
       "      <td>47.6648</td>\n",
       "      <td>-122.343</td>\n",
       "      <td>1610</td>\n",
       "      <td>4300</td>\n",
       "      <td>5</td>\n",
       "      <td>Spring</td>\n",
       "    </tr>\n",
       "    <tr>\n",
       "      <th>18</th>\n",
       "      <td>2014-12-05</td>\n",
       "      <td>189000.0</td>\n",
       "      <td>2</td>\n",
       "      <td>1.00</td>\n",
       "      <td>1200</td>\n",
       "      <td>9850</td>\n",
       "      <td>1</td>\n",
       "      <td>NO</td>\n",
       "      <td>NONE</td>\n",
       "      <td>Good</td>\n",
       "      <td>...</td>\n",
       "      <td>0</td>\n",
       "      <td>1921</td>\n",
       "      <td>0</td>\n",
       "      <td>98002</td>\n",
       "      <td>47.3089</td>\n",
       "      <td>-122.210</td>\n",
       "      <td>1060</td>\n",
       "      <td>5095</td>\n",
       "      <td>12</td>\n",
       "      <td>Winter</td>\n",
       "    </tr>\n",
       "    <tr>\n",
       "      <th>19</th>\n",
       "      <td>2015-04-24</td>\n",
       "      <td>230000.0</td>\n",
       "      <td>3</td>\n",
       "      <td>1.00</td>\n",
       "      <td>1250</td>\n",
       "      <td>9774</td>\n",
       "      <td>1</td>\n",
       "      <td>NO</td>\n",
       "      <td>NONE</td>\n",
       "      <td>Good</td>\n",
       "      <td>...</td>\n",
       "      <td>0</td>\n",
       "      <td>1969</td>\n",
       "      <td>0</td>\n",
       "      <td>98003</td>\n",
       "      <td>47.3343</td>\n",
       "      <td>-122.306</td>\n",
       "      <td>1280</td>\n",
       "      <td>8850</td>\n",
       "      <td>4</td>\n",
       "      <td>Spring</td>\n",
       "    </tr>\n",
       "  </tbody>\n",
       "</table>\n",
       "<p>20 rows × 22 columns</p>\n",
       "</div>"
      ],
      "text/plain": [
       "         date      price  bedrooms  bathrooms  sqft_living  sqft_lot floors  \\\n",
       "0  2014-10-13   221900.0         3       1.00         1180      5650      1   \n",
       "1  2014-12-09   538000.0         3       2.25         2570      7242      2   \n",
       "2  2015-02-25   180000.0         2       1.00          770     10000      1   \n",
       "3  2014-12-09   604000.0         4       3.00         1960      5000      1   \n",
       "4  2015-02-18   510000.0         3       2.00         1680      8080      1   \n",
       "5  2014-05-12  1230000.0         4       4.50         5420    101930      1   \n",
       "6  2014-06-27   257500.0         3       2.25         1715      6819      2   \n",
       "7  2015-01-15   291850.0         3       1.50         1060      9711      1   \n",
       "8  2015-04-15   229500.0         3       1.00         1780      7470      1   \n",
       "9  2015-03-12   323000.0         3       2.50         1890      6560      2   \n",
       "10 2015-04-03   662500.0         3       2.50         3560      9796      1   \n",
       "11 2014-05-27   468000.0         2       1.00         1160      6000      1   \n",
       "12 2014-05-28   310000.0         3       1.00         1430     19901    1.5   \n",
       "13 2014-10-07   400000.0         3       1.75         1370      9680      1   \n",
       "14 2015-03-12   530000.0         5       2.00         1810      4850    1.5   \n",
       "15 2015-01-24   650000.0         4       3.00         2950      5000      2   \n",
       "16 2014-07-31   395000.0         3       2.00         1890     14040      2   \n",
       "17 2014-05-29   485000.0         4       1.00         1600      4300    1.5   \n",
       "18 2014-12-05   189000.0         2       1.00         1200      9850      1   \n",
       "19 2015-04-24   230000.0         3       1.00         1250      9774      1   \n",
       "\n",
       "   waterfront  view  condition  ... sqft_basement  yr_built  yr_renovated  \\\n",
       "0          NO  NONE    Average  ...             0      1955             0   \n",
       "1          NO  NONE    Average  ...           400      1951          1991   \n",
       "2          NO  NONE    Average  ...             0      1933             0   \n",
       "3          NO  NONE  Very Good  ...           910      1965             0   \n",
       "4          NO  NONE    Average  ...             0      1987             0   \n",
       "5          NO  NONE    Average  ...          1530      2001             0   \n",
       "6          NO  NONE    Average  ...             0      1995             0   \n",
       "7          NO  NONE    Average  ...             0      1963             0   \n",
       "8          NO  NONE    Average  ...           730      1960             0   \n",
       "9          NO  NONE    Average  ...             0      2003             0   \n",
       "10         NO  NONE    Average  ...          1700      1965             0   \n",
       "11         NO  NONE       Good  ...           300      1942             0   \n",
       "12         NO  NONE       Good  ...             0      1927             0   \n",
       "13         NO  NONE       Good  ...             0      1977             0   \n",
       "14         NO  NONE    Average  ...             0      1900             0   \n",
       "15         NO  GOOD    Average  ...           970      1979             0   \n",
       "16         NO  NONE    Average  ...             0      1994             0   \n",
       "17         NO  NONE       Good  ...             0      1916             0   \n",
       "18         NO  NONE       Good  ...             0      1921             0   \n",
       "19         NO  NONE       Good  ...             0      1969             0   \n",
       "\n",
       "    zipcode      lat     long  sqft_living15  sqft_lot15  month  season  \n",
       "0     98178  47.5112 -122.257           1340        5650     10    Fall  \n",
       "1     98125  47.7210 -122.319           1690        7639     12  Winter  \n",
       "2     98028  47.7379 -122.233           2720        8062      2  Winter  \n",
       "3     98136  47.5208 -122.393           1360        5000     12  Winter  \n",
       "4     98074  47.6168 -122.045           1800        7503      2  Winter  \n",
       "5     98053  47.6561 -122.005           4760      101930      5  Spring  \n",
       "6     98003  47.3097 -122.327           2238        6819      6  Summer  \n",
       "7     98198  47.4095 -122.315           1650        9711      1  Winter  \n",
       "8     98146  47.5123 -122.337           1780        8113      4  Spring  \n",
       "9     98038  47.3684 -122.031           2390        7570      3  Spring  \n",
       "10    98007  47.6007 -122.145           2210        8925      4  Spring  \n",
       "11    98115  47.6900 -122.292           1330        6000      5  Spring  \n",
       "12    98028  47.7558 -122.229           1780       12697      5  Spring  \n",
       "13    98074  47.6127 -122.045           1370       10208     10    Fall  \n",
       "14    98107  47.6700 -122.394           1360        4850      3  Spring  \n",
       "15    98126  47.5714 -122.375           2140        4000      1  Winter  \n",
       "16    98019  47.7277 -121.962           1890       14018      7  Summer  \n",
       "17    98103  47.6648 -122.343           1610        4300      5  Spring  \n",
       "18    98002  47.3089 -122.210           1060        5095     12  Winter  \n",
       "19    98003  47.3343 -122.306           1280        8850      4  Spring  \n",
       "\n",
       "[20 rows x 22 columns]"
      ]
     },
     "execution_count": 26,
     "metadata": {},
     "output_type": "execute_result"
    }
   ],
   "source": [
    "df.head(20)"
   ]
  },
  {
   "cell_type": "code",
   "execution_count": 27,
   "metadata": {
    "colab": {
     "base_uri": "https://localhost:8080/"
    },
    "id": "wK9BbDoWaKQG",
    "outputId": "b6b87c03-32aa-459f-f20d-02ce717a3c10"
   },
   "outputs": [
    {
     "data": {
      "text/plain": [
       "['floors', 'waterfront', 'view', 'condition', 'grade', 'season']"
      ]
     },
     "execution_count": 27,
     "metadata": {},
     "output_type": "execute_result"
    }
   ],
   "source": [
    "categorical_cols = list(df.select_dtypes('object').columns)\n",
    "categorical_cols"
   ]
  },
  {
   "cell_type": "code",
   "execution_count": 28,
   "metadata": {
    "colab": {
     "base_uri": "https://localhost:8080/"
    },
    "id": "Jq19kr9EaKQG",
    "outputId": "88dd2b00-f13f-469d-a931-7e6c2a1b7bfb"
   },
   "outputs": [
    {
     "data": {
      "text/plain": [
       "floors         6\n",
       "waterfront     2\n",
       "view           5\n",
       "condition      5\n",
       "grade         11\n",
       "season         4\n",
       "dtype: int64"
      ]
     },
     "execution_count": 28,
     "metadata": {},
     "output_type": "execute_result"
    }
   ],
   "source": [
    "df[categorical_cols].nunique()"
   ]
  },
  {
   "cell_type": "code",
   "execution_count": 29,
   "metadata": {
    "colab": {
     "base_uri": "https://localhost:8080/"
    },
    "id": "cBGNjNftaKQG",
    "outputId": "0ecaeb66-5aee-4709-bbb1-bff7c92780af"
   },
   "outputs": [
    {
     "data": {
      "text/plain": [
       "['price',\n",
       " 'bedrooms',\n",
       " 'bathrooms',\n",
       " 'sqft_living',\n",
       " 'sqft_lot',\n",
       " 'sqft_above',\n",
       " 'sqft_basement',\n",
       " 'yr_built',\n",
       " 'yr_renovated',\n",
       " 'zipcode',\n",
       " 'lat',\n",
       " 'long',\n",
       " 'sqft_living15',\n",
       " 'sqft_lot15',\n",
       " 'month']"
      ]
     },
     "execution_count": 29,
     "metadata": {},
     "output_type": "execute_result"
    }
   ],
   "source": [
    "cont_cols = list(df.select_dtypes('number').columns)\n",
    "cont_cols"
   ]
  },
  {
   "cell_type": "code",
   "execution_count": 30,
   "metadata": {
    "colab": {
     "base_uri": "https://localhost:8080/"
    },
    "id": "CIVBndeHaKQG",
    "outputId": "6e5a8f88-a804-417e-cc76-f5d95f407254"
   },
   "outputs": [
    {
     "data": {
      "text/plain": [
       "price            3622\n",
       "bedrooms           12\n",
       "bathrooms          29\n",
       "sqft_living      1034\n",
       "sqft_lot         9776\n",
       "sqft_above        942\n",
       "sqft_basement     303\n",
       "yr_built          116\n",
       "yr_renovated       70\n",
       "zipcode            70\n",
       "lat              5033\n",
       "long              751\n",
       "sqft_living15     777\n",
       "sqft_lot15       8682\n",
       "month              12\n",
       "dtype: int64"
      ]
     },
     "execution_count": 30,
     "metadata": {},
     "output_type": "execute_result"
    }
   ],
   "source": [
    "df[cont_cols].nunique()"
   ]
  },
  {
   "cell_type": "markdown",
   "metadata": {
    "id": "w2-DXNiDaKQI"
   },
   "source": [
    "## Feature Scaling and Normalization"
   ]
  },
  {
   "cell_type": "code",
   "execution_count": 31,
   "metadata": {
    "id": "D8BsNjw5aKQI"
   },
   "outputs": [],
   "source": [
    "continuous = ['price',\n",
    " 'bedrooms',\n",
    " 'bathrooms',\n",
    " 'sqft_living',\n",
    " 'sqft_lot',\n",
    " 'sqft_above',\n",
    " #'sqft_basement',\n",
    " 'yr_built',\n",
    " #'yr_renovated',\n",
    " 'zipcode',\n",
    " 'lat',\n",
    " #'long',\n",
    " 'sqft_living15',\n",
    " 'sqft_lot15',\n",
    " 'month'\n",
    "]"
   ]
  },
  {
   "cell_type": "code",
   "execution_count": 32,
   "metadata": {
    "id": "dP1xtTN_aKQJ"
   },
   "outputs": [],
   "source": [
    "#log features\n",
    "king_cont = df[continuous]\n",
    "log_names = [f'{column}_log' for column in king_cont.columns]\n",
    "king_log = np.log(king_cont)\n",
    "king_log.columns = log_names\n",
    "#king_log.hist(figsize=(20, 20), bins='auto')\n",
    "#fig.tight_layout();\n"
   ]
  },
  {
   "cell_type": "code",
   "execution_count": 33,
   "metadata": {
    "id": "1NEWktK5aKQJ"
   },
   "outputs": [],
   "source": [
    "def normalize(feature):\n",
    "    return (feature - feature.mean()) / feature.std()\n",
    "\n",
    "king_log_norm = king_log.apply(normalize)\n",
    "\n",
    "#king_log_norm.hist(figsize  = [8, 8]);"
   ]
  },
  {
   "cell_type": "code",
   "execution_count": 34,
   "metadata": {
    "id": "2JrDzE7_aKQJ"
   },
   "outputs": [],
   "source": [
    "# one hot encode categoricals\n",
    "king_ohe = pd.get_dummies(df[categorical_cols], prefix=categorical_cols, drop_first=True)\n"
   ]
  },
  {
   "cell_type": "code",
   "execution_count": 35,
   "metadata": {
    "id": "mnoZSifHaKQJ"
   },
   "outputs": [],
   "source": [
    "preprocessed = pd.concat([king_log_norm, king_ohe], axis=1)"
   ]
  },
  {
   "cell_type": "markdown",
   "metadata": {
    "id": "W4pOnT1KaKQJ"
   },
   "source": [
    "### Perform Stepwise Selection"
   ]
  },
  {
   "cell_type": "code",
   "execution_count": 36,
   "metadata": {
    "id": "WGNqXe1YaKQJ"
   },
   "outputs": [],
   "source": [
    "def stepwise_selection(X, y, \n",
    "                       initial_list=[], \n",
    "                       threshold_in=0.01, \n",
    "                       threshold_out = 0.05, \n",
    "                       verbose=True):\n",
    "    \"\"\" \n",
    "    Perform a forward-backward feature selection \n",
    "    based on p-value from statsmodels.api.OLS\n",
    "    Arguments:\n",
    "        X - pandas.DataFrame with candidate features\n",
    "        y - list-like with the target\n",
    "        initial_list - list of features to start with (column names of X)\n",
    "        threshold_in - include a feature if its p-value < threshold_in\n",
    "        threshold_out - exclude a feature if its p-value > threshold_out\n",
    "        verbose - whether to print the sequence of inclusions and exclusions\n",
    "    Returns: list of selected features \n",
    "    Always set threshold_in < threshold_out to avoid infinite looping.\n",
    "    See https://en.wikipedia.org/wiki/Stepwise_regression for the details\n",
    "    \"\"\"\n",
    "    included = list(initial_list)\n",
    "    while True:\n",
    "        changed=False\n",
    "        # forward step\n",
    "        excluded = list(set(X.columns)-set(included))\n",
    "        new_pval = pd.Series(index=excluded, dtype='float64')\n",
    "        for new_column in excluded:\n",
    "            model = sm.OLS(y, sm.add_constant(pd.DataFrame(X[included+[new_column]]))).fit()\n",
    "            new_pval[new_column] = model.pvalues[new_column]\n",
    "        best_pval = new_pval.min()\n",
    "        if best_pval < threshold_in:\n",
    "            best_feature = new_pval.idxmin()\n",
    "            included.append(best_feature)\n",
    "            changed=True\n",
    "            if verbose:\n",
    "                print('Add  {:30} with p-value {:.6}'.format(best_feature, best_pval))\n",
    "\n",
    "        # backward step\n",
    "        model = sm.OLS(y, sm.add_constant(pd.DataFrame(X[included]))).fit()\n",
    "        # use all coefs except intercept\n",
    "        pvalues = model.pvalues.iloc[1:]\n",
    "        worst_pval = pvalues.max() # null if pvalues is empty\n",
    "        if worst_pval > threshold_out:\n",
    "            changed=True\n",
    "            worst_feature = pvalues.idxmax()\n",
    "            included.remove(worst_feature)\n",
    "            if verbose:\n",
    "                print('Drop {:30} with p-value {:.6}'.format(worst_feature, worst_pval))\n",
    "        if not changed:\n",
    "            break\n",
    "    return included"
   ]
  },
  {
   "cell_type": "code",
   "execution_count": 37,
   "metadata": {
    "colab": {
     "base_uri": "https://localhost:8080/"
    },
    "id": "yU5hUvMJaKQJ",
    "outputId": "0ebbc503-4aec-4171-f34f-dd69f283f939"
   },
   "outputs": [
    {
     "name": "stdout",
     "output_type": "stream",
     "text": [
      "Add  sqft_living_log                with p-value 0.0\n",
      "Add  lat_log                        with p-value 0.0\n",
      "Add  view_NONE                      with p-value 0.0\n",
      "Add  sqft_living15_log              with p-value 2.32388e-225\n",
      "Add  yr_built_log                   with p-value 7.13709e-114\n",
      "Add  grade_7 Average                with p-value 8.79744e-132\n",
      "Add  grade_6 Low Average            with p-value 1.8661e-178\n",
      "Add  grade_8 Good                   with p-value 2.23929e-229\n",
      "Add  grade_5 Fair                   with p-value 1.36277e-235\n",
      "Add  grade_9 Better                 with p-value 5.43668e-149\n",
      "Add  waterfront_YES                 with p-value 7.67405e-120\n",
      "Add  bathrooms_log                  with p-value 5.02929e-78\n",
      "Add  grade_4 Low                    with p-value 6.37192e-70\n",
      "Add  sqft_lot15_log                 with p-value 4.11898e-40\n",
      "Add  zipcode_log                    with p-value 5.07549e-50\n",
      "Add  grade_12 Luxury                with p-value 3.47156e-36\n",
      "Add  condition_Very Good            with p-value 6.69371e-37\n",
      "Add  season_Spring                  with p-value 3.16234e-34\n",
      "Add  bedrooms_log                   with p-value 9.36558e-31\n",
      "Add  grade_11 Excellent             with p-value 6.73383e-29\n",
      "Add  condition_Good                 with p-value 3.53446e-29\n",
      "Add  grade_13 Mansion               with p-value 6.5943e-26\n",
      "Add  sqft_above_log                 with p-value 6.82403e-13\n",
      "Add  view_EXCELLENT                 with p-value 2.61117e-10\n",
      "Add  floors_3.0                     with p-value 6.71318e-09\n",
      "Add  condition_Fair                 with p-value 4.40952e-08\n",
      "Add  floors_2.0                     with p-value 1.95408e-06\n",
      "Add  floors_1.5                     with p-value 4.58912e-08\n",
      "Add  floors_2.5                     with p-value 5.10969e-08\n",
      "Drop sqft_above_log                 with p-value 0.127234\n",
      "Add  condition_Poor                 with p-value 9.17832e-06\n",
      "Add  view_GOOD                      with p-value 1.3279e-05\n",
      "Add  view_FAIR                      with p-value 0.00106477\n",
      "Add  sqft_lot_log                   with p-value 0.00656463\n",
      "resulting features:\n",
      "['sqft_living_log', 'lat_log', 'view_NONE', 'sqft_living15_log', 'yr_built_log', 'grade_7 Average', 'grade_6 Low Average', 'grade_8 Good', 'grade_5 Fair', 'grade_9 Better', 'waterfront_YES', 'bathrooms_log', 'grade_4 Low', 'sqft_lot15_log', 'zipcode_log', 'grade_12 Luxury', 'condition_Very Good', 'season_Spring', 'bedrooms_log', 'grade_11 Excellent', 'condition_Good', 'grade_13 Mansion', 'view_EXCELLENT', 'floors_3.0', 'condition_Fair', 'floors_2.0', 'floors_1.5', 'floors_2.5', 'condition_Poor', 'view_GOOD', 'view_FAIR', 'sqft_lot_log']\n"
     ]
    }
   ],
   "source": [
    "X1 = preprocessed.drop('price_log', axis=1)\n",
    "y1 = preprocessed['price_log']\n",
    "\n",
    "result = stepwise_selection(X1, y1, verbose = True)\n",
    "print('resulting features:')\n",
    "print(result)"
   ]
  },
  {
   "cell_type": "code",
   "execution_count": 38,
   "metadata": {
    "colab": {
     "base_uri": "https://localhost:8080/",
     "height": 1000
    },
    "id": "cDWmGvfuaKQJ",
    "outputId": "4ebae4bd-166a-4933-9e1f-b9b7bff79ed8"
   },
   "outputs": [
    {
     "data": {
      "text/html": [
       "<table class=\"simpletable\">\n",
       "<caption>OLS Regression Results</caption>\n",
       "<tr>\n",
       "  <th>Dep. Variable:</th>        <td>price_log</td>    <th>  R-squared:         </th> <td>   0.775</td> \n",
       "</tr>\n",
       "<tr>\n",
       "  <th>Model:</th>                   <td>OLS</td>       <th>  Adj. R-squared:    </th> <td>   0.774</td> \n",
       "</tr>\n",
       "<tr>\n",
       "  <th>Method:</th>             <td>Least Squares</td>  <th>  F-statistic:       </th> <td>   2318.</td> \n",
       "</tr>\n",
       "<tr>\n",
       "  <th>Date:</th>             <td>Tue, 04 Jan 2022</td> <th>  Prob (F-statistic):</th>  <td>  0.00</td>  \n",
       "</tr>\n",
       "<tr>\n",
       "  <th>Time:</th>                 <td>17:45:06</td>     <th>  Log-Likelihood:    </th> <td> -14548.</td> \n",
       "</tr>\n",
       "<tr>\n",
       "  <th>No. Observations:</th>      <td> 21597</td>      <th>  AIC:               </th> <td>2.916e+04</td>\n",
       "</tr>\n",
       "<tr>\n",
       "  <th>Df Residuals:</th>          <td> 21564</td>      <th>  BIC:               </th> <td>2.943e+04</td>\n",
       "</tr>\n",
       "<tr>\n",
       "  <th>Df Model:</th>              <td>    32</td>      <th>                     </th>     <td> </td>    \n",
       "</tr>\n",
       "<tr>\n",
       "  <th>Covariance Type:</th>      <td>nonrobust</td>    <th>                     </th>     <td> </td>    \n",
       "</tr>\n",
       "</table>\n",
       "<table class=\"simpletable\">\n",
       "<tr>\n",
       "           <td></td>              <th>coef</th>     <th>std err</th>      <th>t</th>      <th>P>|t|</th>  <th>[0.025</th>    <th>0.975]</th>  \n",
       "</tr>\n",
       "<tr>\n",
       "  <th>const</th>               <td>    0.8799</td> <td>    0.023</td> <td>   37.781</td> <td> 0.000</td> <td>    0.834</td> <td>    0.926</td>\n",
       "</tr>\n",
       "<tr>\n",
       "  <th>sqft_living_log</th>     <td>    0.2922</td> <td>    0.008</td> <td>   38.144</td> <td> 0.000</td> <td>    0.277</td> <td>    0.307</td>\n",
       "</tr>\n",
       "<tr>\n",
       "  <th>lat_log</th>             <td>    0.3603</td> <td>    0.004</td> <td>  101.860</td> <td> 0.000</td> <td>    0.353</td> <td>    0.367</td>\n",
       "</tr>\n",
       "<tr>\n",
       "  <th>view_NONE</th>           <td>   -0.2462</td> <td>    0.016</td> <td>  -15.193</td> <td> 0.000</td> <td>   -0.278</td> <td>   -0.214</td>\n",
       "</tr>\n",
       "<tr>\n",
       "  <th>sqft_living15_log</th>   <td>    0.1199</td> <td>    0.005</td> <td>   21.801</td> <td> 0.000</td> <td>    0.109</td> <td>    0.131</td>\n",
       "</tr>\n",
       "<tr>\n",
       "  <th>yr_built_log</th>        <td>   -0.2142</td> <td>    0.005</td> <td>  -41.823</td> <td> 0.000</td> <td>   -0.224</td> <td>   -0.204</td>\n",
       "</tr>\n",
       "<tr>\n",
       "  <th>grade_7 Average</th>     <td>   -1.0109</td> <td>    0.019</td> <td>  -53.567</td> <td> 0.000</td> <td>   -1.048</td> <td>   -0.974</td>\n",
       "</tr>\n",
       "<tr>\n",
       "  <th>grade_6 Low Average</th> <td>   -1.2770</td> <td>    0.024</td> <td>  -53.545</td> <td> 0.000</td> <td>   -1.324</td> <td>   -1.230</td>\n",
       "</tr>\n",
       "<tr>\n",
       "  <th>grade_8 Good</th>        <td>   -0.7083</td> <td>    0.017</td> <td>  -41.703</td> <td> 0.000</td> <td>   -0.742</td> <td>   -0.675</td>\n",
       "</tr>\n",
       "<tr>\n",
       "  <th>grade_5 Fair</th>        <td>   -1.5289</td> <td>    0.038</td> <td>  -39.787</td> <td> 0.000</td> <td>   -1.604</td> <td>   -1.454</td>\n",
       "</tr>\n",
       "<tr>\n",
       "  <th>grade_9 Better</th>      <td>   -0.3228</td> <td>    0.017</td> <td>  -18.801</td> <td> 0.000</td> <td>   -0.356</td> <td>   -0.289</td>\n",
       "</tr>\n",
       "<tr>\n",
       "  <th>waterfront_YES</th>      <td>    0.8064</td> <td>    0.048</td> <td>   16.721</td> <td> 0.000</td> <td>    0.712</td> <td>    0.901</td>\n",
       "</tr>\n",
       "<tr>\n",
       "  <th>bathrooms_log</th>       <td>    0.0823</td> <td>    0.006</td> <td>   13.872</td> <td> 0.000</td> <td>    0.071</td> <td>    0.094</td>\n",
       "</tr>\n",
       "<tr>\n",
       "  <th>grade_4 Low</th>         <td>   -1.5926</td> <td>    0.095</td> <td>  -16.743</td> <td> 0.000</td> <td>   -1.779</td> <td>   -1.406</td>\n",
       "</tr>\n",
       "<tr>\n",
       "  <th>sqft_lot15_log</th>      <td>   -0.0724</td> <td>    0.008</td> <td>   -8.687</td> <td> 0.000</td> <td>   -0.089</td> <td>   -0.056</td>\n",
       "</tr>\n",
       "<tr>\n",
       "  <th>zipcode_log</th>         <td>   -0.0556</td> <td>    0.004</td> <td>  -14.499</td> <td> 0.000</td> <td>   -0.063</td> <td>   -0.048</td>\n",
       "</tr>\n",
       "<tr>\n",
       "  <th>grade_12 Luxury</th>     <td>    0.7481</td> <td>    0.053</td> <td>   14.156</td> <td> 0.000</td> <td>    0.644</td> <td>    0.852</td>\n",
       "</tr>\n",
       "<tr>\n",
       "  <th>condition_Very Good</th> <td>    0.2155</td> <td>    0.013</td> <td>   16.497</td> <td> 0.000</td> <td>    0.190</td> <td>    0.241</td>\n",
       "</tr>\n",
       "<tr>\n",
       "  <th>season_Spring</th>       <td>    0.0913</td> <td>    0.007</td> <td>   12.945</td> <td> 0.000</td> <td>    0.077</td> <td>    0.105</td>\n",
       "</tr>\n",
       "<tr>\n",
       "  <th>bedrooms_log</th>        <td>   -0.0510</td> <td>    0.004</td> <td>  -11.410</td> <td> 0.000</td> <td>   -0.060</td> <td>   -0.042</td>\n",
       "</tr>\n",
       "<tr>\n",
       "  <th>grade_11 Excellent</th>  <td>    0.3254</td> <td>    0.028</td> <td>   11.684</td> <td> 0.000</td> <td>    0.271</td> <td>    0.380</td>\n",
       "</tr>\n",
       "<tr>\n",
       "  <th>condition_Good</th>      <td>    0.0959</td> <td>    0.008</td> <td>   11.699</td> <td> 0.000</td> <td>    0.080</td> <td>    0.112</td>\n",
       "</tr>\n",
       "<tr>\n",
       "  <th>grade_13 Mansion</th>    <td>    1.3622</td> <td>    0.133</td> <td>   10.224</td> <td> 0.000</td> <td>    1.101</td> <td>    1.623</td>\n",
       "</tr>\n",
       "<tr>\n",
       "  <th>view_EXCELLENT</th>      <td>    0.2773</td> <td>    0.036</td> <td>    7.695</td> <td> 0.000</td> <td>    0.207</td> <td>    0.348</td>\n",
       "</tr>\n",
       "<tr>\n",
       "  <th>floors_3.0</th>          <td>    0.2089</td> <td>    0.023</td> <td>    9.116</td> <td> 0.000</td> <td>    0.164</td> <td>    0.254</td>\n",
       "</tr>\n",
       "<tr>\n",
       "  <th>condition_Fair</th>      <td>   -0.2067</td> <td>    0.037</td> <td>   -5.567</td> <td> 0.000</td> <td>   -0.279</td> <td>   -0.134</td>\n",
       "</tr>\n",
       "<tr>\n",
       "  <th>floors_2.0</th>          <td>    0.0867</td> <td>    0.010</td> <td>    9.099</td> <td> 0.000</td> <td>    0.068</td> <td>    0.105</td>\n",
       "</tr>\n",
       "<tr>\n",
       "  <th>floors_1.5</th>          <td>    0.0857</td> <td>    0.013</td> <td>    6.797</td> <td> 0.000</td> <td>    0.061</td> <td>    0.110</td>\n",
       "</tr>\n",
       "<tr>\n",
       "  <th>floors_2.5</th>          <td>    0.2297</td> <td>    0.039</td> <td>    5.949</td> <td> 0.000</td> <td>    0.154</td> <td>    0.305</td>\n",
       "</tr>\n",
       "<tr>\n",
       "  <th>condition_Poor</th>      <td>   -0.4064</td> <td>    0.089</td> <td>   -4.559</td> <td> 0.000</td> <td>   -0.581</td> <td>   -0.232</td>\n",
       "</tr>\n",
       "<tr>\n",
       "  <th>view_GOOD</th>           <td>    0.1342</td> <td>    0.026</td> <td>    5.132</td> <td> 0.000</td> <td>    0.083</td> <td>    0.186</td>\n",
       "</tr>\n",
       "<tr>\n",
       "  <th>view_FAIR</th>           <td>    0.1008</td> <td>    0.030</td> <td>    3.319</td> <td> 0.001</td> <td>    0.041</td> <td>    0.160</td>\n",
       "</tr>\n",
       "<tr>\n",
       "  <th>sqft_lot_log</th>        <td>    0.0230</td> <td>    0.008</td> <td>    2.718</td> <td> 0.007</td> <td>    0.006</td> <td>    0.040</td>\n",
       "</tr>\n",
       "</table>\n",
       "<table class=\"simpletable\">\n",
       "<tr>\n",
       "  <th>Omnibus:</th>       <td>404.304</td> <th>  Durbin-Watson:     </th> <td>   1.982</td> \n",
       "</tr>\n",
       "<tr>\n",
       "  <th>Prob(Omnibus):</th> <td> 0.000</td>  <th>  Jarque-Bera (JB):  </th> <td> 769.282</td> \n",
       "</tr>\n",
       "<tr>\n",
       "  <th>Skew:</th>          <td> 0.113</td>  <th>  Prob(JB):          </th> <td>8.97e-168</td>\n",
       "</tr>\n",
       "<tr>\n",
       "  <th>Kurtosis:</th>      <td> 3.897</td>  <th>  Cond. No.          </th> <td>    79.1</td> \n",
       "</tr>\n",
       "</table><br/><br/>Notes:<br/>[1] Standard Errors assume that the covariance matrix of the errors is correctly specified."
      ],
      "text/plain": [
       "<class 'statsmodels.iolib.summary.Summary'>\n",
       "\"\"\"\n",
       "                            OLS Regression Results                            \n",
       "==============================================================================\n",
       "Dep. Variable:              price_log   R-squared:                       0.775\n",
       "Model:                            OLS   Adj. R-squared:                  0.774\n",
       "Method:                 Least Squares   F-statistic:                     2318.\n",
       "Date:                Tue, 04 Jan 2022   Prob (F-statistic):               0.00\n",
       "Time:                        17:45:06   Log-Likelihood:                -14548.\n",
       "No. Observations:               21597   AIC:                         2.916e+04\n",
       "Df Residuals:                   21564   BIC:                         2.943e+04\n",
       "Df Model:                          32                                         \n",
       "Covariance Type:            nonrobust                                         \n",
       "=======================================================================================\n",
       "                          coef    std err          t      P>|t|      [0.025      0.975]\n",
       "---------------------------------------------------------------------------------------\n",
       "const                   0.8799      0.023     37.781      0.000       0.834       0.926\n",
       "sqft_living_log         0.2922      0.008     38.144      0.000       0.277       0.307\n",
       "lat_log                 0.3603      0.004    101.860      0.000       0.353       0.367\n",
       "view_NONE              -0.2462      0.016    -15.193      0.000      -0.278      -0.214\n",
       "sqft_living15_log       0.1199      0.005     21.801      0.000       0.109       0.131\n",
       "yr_built_log           -0.2142      0.005    -41.823      0.000      -0.224      -0.204\n",
       "grade_7 Average        -1.0109      0.019    -53.567      0.000      -1.048      -0.974\n",
       "grade_6 Low Average    -1.2770      0.024    -53.545      0.000      -1.324      -1.230\n",
       "grade_8 Good           -0.7083      0.017    -41.703      0.000      -0.742      -0.675\n",
       "grade_5 Fair           -1.5289      0.038    -39.787      0.000      -1.604      -1.454\n",
       "grade_9 Better         -0.3228      0.017    -18.801      0.000      -0.356      -0.289\n",
       "waterfront_YES          0.8064      0.048     16.721      0.000       0.712       0.901\n",
       "bathrooms_log           0.0823      0.006     13.872      0.000       0.071       0.094\n",
       "grade_4 Low            -1.5926      0.095    -16.743      0.000      -1.779      -1.406\n",
       "sqft_lot15_log         -0.0724      0.008     -8.687      0.000      -0.089      -0.056\n",
       "zipcode_log            -0.0556      0.004    -14.499      0.000      -0.063      -0.048\n",
       "grade_12 Luxury         0.7481      0.053     14.156      0.000       0.644       0.852\n",
       "condition_Very Good     0.2155      0.013     16.497      0.000       0.190       0.241\n",
       "season_Spring           0.0913      0.007     12.945      0.000       0.077       0.105\n",
       "bedrooms_log           -0.0510      0.004    -11.410      0.000      -0.060      -0.042\n",
       "grade_11 Excellent      0.3254      0.028     11.684      0.000       0.271       0.380\n",
       "condition_Good          0.0959      0.008     11.699      0.000       0.080       0.112\n",
       "grade_13 Mansion        1.3622      0.133     10.224      0.000       1.101       1.623\n",
       "view_EXCELLENT          0.2773      0.036      7.695      0.000       0.207       0.348\n",
       "floors_3.0              0.2089      0.023      9.116      0.000       0.164       0.254\n",
       "condition_Fair         -0.2067      0.037     -5.567      0.000      -0.279      -0.134\n",
       "floors_2.0              0.0867      0.010      9.099      0.000       0.068       0.105\n",
       "floors_1.5              0.0857      0.013      6.797      0.000       0.061       0.110\n",
       "floors_2.5              0.2297      0.039      5.949      0.000       0.154       0.305\n",
       "condition_Poor         -0.4064      0.089     -4.559      0.000      -0.581      -0.232\n",
       "view_GOOD               0.1342      0.026      5.132      0.000       0.083       0.186\n",
       "view_FAIR               0.1008      0.030      3.319      0.001       0.041       0.160\n",
       "sqft_lot_log            0.0230      0.008      2.718      0.007       0.006       0.040\n",
       "==============================================================================\n",
       "Omnibus:                      404.304   Durbin-Watson:                   1.982\n",
       "Prob(Omnibus):                  0.000   Jarque-Bera (JB):              769.282\n",
       "Skew:                           0.113   Prob(JB):                    8.97e-168\n",
       "Kurtosis:                       3.897   Cond. No.                         79.1\n",
       "==============================================================================\n",
       "\n",
       "Notes:\n",
       "[1] Standard Errors assume that the covariance matrix of the errors is correctly specified.\n",
       "\"\"\""
      ]
     },
     "execution_count": 38,
     "metadata": {},
     "output_type": "execute_result"
    }
   ],
   "source": [
    "X_fin = X1[result]\n",
    "X_with_intercept = sm.add_constant(X_fin)\n",
    "model2 = sm.OLS(y1,X_with_intercept).fit()\n",
    "model2.summary()"
   ]
  },
  {
   "cell_type": "markdown",
   "metadata": {
    "id": "HHQdyY11bAQu"
   },
   "source": [
    "Trying a model after splitting data of preprocessed dataframe:"
   ]
  },
  {
   "cell_type": "code",
   "execution_count": 39,
   "metadata": {
    "id": "bxA6PeRove2P"
   },
   "outputs": [],
   "source": [
    "# Create X,Y for splitting the data into train and test\n",
    "X_preprocessed = preprocessed.drop(['price_log'], axis=1)\n",
    "y_preprocessed = preprocessed[[\"price_log\"]]"
   ]
  },
  {
   "cell_type": "markdown",
   "metadata": {
    "id": "GOxO6DHU8nvl"
   },
   "source": [
    "**Perform a train-test split**"
   ]
  },
  {
   "cell_type": "code",
   "execution_count": 40,
   "metadata": {
    "id": "K9b_bwDda9NN"
   },
   "outputs": [],
   "source": [
    "# Splitting the preprocessed df into train and test\n",
    "X_train, X_test, y_train, y_test = train_test_split(X_preprocessed, y_preprocessed, test_size=0.8, random_state=9)"
   ]
  },
  {
   "cell_type": "markdown",
   "metadata": {
    "id": "sMxSuAUc83N3"
   },
   "source": [
    "Apply your model to the train set and showing its summary:\n"
   ]
  },
  {
   "cell_type": "code",
   "execution_count": 41,
   "metadata": {
    "colab": {
     "base_uri": "https://localhost:8080/",
     "height": 1000
    },
    "id": "xfm6hpVcbrFz",
    "outputId": "76f51607-447a-46c0-b26d-27612c8d8ff3"
   },
   "outputs": [
    {
     "data": {
      "text/html": [
       "<table class=\"simpletable\">\n",
       "<caption>OLS Regression Results</caption>\n",
       "<tr>\n",
       "  <th>Dep. Variable:</th>        <td>price_log</td>    <th>  R-squared:         </th> <td>   0.780</td>\n",
       "</tr>\n",
       "<tr>\n",
       "  <th>Model:</th>                   <td>OLS</td>       <th>  Adj. R-squared:    </th> <td>   0.778</td>\n",
       "</tr>\n",
       "<tr>\n",
       "  <th>Method:</th>             <td>Least Squares</td>  <th>  F-statistic:       </th> <td>   410.4</td>\n",
       "</tr>\n",
       "<tr>\n",
       "  <th>Date:</th>             <td>Tue, 04 Jan 2022</td> <th>  Prob (F-statistic):</th>  <td>  0.00</td> \n",
       "</tr>\n",
       "<tr>\n",
       "  <th>Time:</th>                 <td>17:45:06</td>     <th>  Log-Likelihood:    </th> <td> -2913.5</td>\n",
       "</tr>\n",
       "<tr>\n",
       "  <th>No. Observations:</th>      <td>  4319</td>      <th>  AIC:               </th> <td>   5903.</td>\n",
       "</tr>\n",
       "<tr>\n",
       "  <th>Df Residuals:</th>          <td>  4281</td>      <th>  BIC:               </th> <td>   6145.</td>\n",
       "</tr>\n",
       "<tr>\n",
       "  <th>Df Model:</th>              <td>    37</td>      <th>                     </th>     <td> </td>   \n",
       "</tr>\n",
       "<tr>\n",
       "  <th>Covariance Type:</th>      <td>nonrobust</td>    <th>                     </th>     <td> </td>   \n",
       "</tr>\n",
       "</table>\n",
       "<table class=\"simpletable\">\n",
       "<tr>\n",
       "           <td></td>              <th>coef</th>     <th>std err</th>      <th>t</th>      <th>P>|t|</th>  <th>[0.025</th>    <th>0.975]</th>  \n",
       "</tr>\n",
       "<tr>\n",
       "  <th>const</th>               <td>    0.9031</td> <td>    0.055</td> <td>   16.468</td> <td> 0.000</td> <td>    0.796</td> <td>    1.011</td>\n",
       "</tr>\n",
       "<tr>\n",
       "  <th>bedrooms_log</th>        <td>   -0.0770</td> <td>    0.010</td> <td>   -7.628</td> <td> 0.000</td> <td>   -0.097</td> <td>   -0.057</td>\n",
       "</tr>\n",
       "<tr>\n",
       "  <th>bathrooms_log</th>       <td>    0.0792</td> <td>    0.014</td> <td>    5.823</td> <td> 0.000</td> <td>    0.053</td> <td>    0.106</td>\n",
       "</tr>\n",
       "<tr>\n",
       "  <th>sqft_living_log</th>     <td>    0.3232</td> <td>    0.021</td> <td>   15.422</td> <td> 0.000</td> <td>    0.282</td> <td>    0.364</td>\n",
       "</tr>\n",
       "<tr>\n",
       "  <th>sqft_lot_log</th>        <td>    0.0497</td> <td>    0.019</td> <td>    2.626</td> <td> 0.009</td> <td>    0.013</td> <td>    0.087</td>\n",
       "</tr>\n",
       "<tr>\n",
       "  <th>sqft_above_log</th>      <td>   -0.0038</td> <td>    0.020</td> <td>   -0.194</td> <td> 0.846</td> <td>   -0.042</td> <td>    0.035</td>\n",
       "</tr>\n",
       "<tr>\n",
       "  <th>yr_built_log</th>        <td>   -0.2032</td> <td>    0.012</td> <td>  -17.520</td> <td> 0.000</td> <td>   -0.226</td> <td>   -0.180</td>\n",
       "</tr>\n",
       "<tr>\n",
       "  <th>zipcode_log</th>         <td>   -0.0518</td> <td>    0.009</td> <td>   -5.981</td> <td> 0.000</td> <td>   -0.069</td> <td>   -0.035</td>\n",
       "</tr>\n",
       "<tr>\n",
       "  <th>lat_log</th>             <td>    0.3624</td> <td>    0.008</td> <td>   45.792</td> <td> 0.000</td> <td>    0.347</td> <td>    0.378</td>\n",
       "</tr>\n",
       "<tr>\n",
       "  <th>sqft_living15_log</th>   <td>    0.1317</td> <td>    0.013</td> <td>   10.503</td> <td> 0.000</td> <td>    0.107</td> <td>    0.156</td>\n",
       "</tr>\n",
       "<tr>\n",
       "  <th>sqft_lot15_log</th>      <td>   -0.1087</td> <td>    0.019</td> <td>   -5.770</td> <td> 0.000</td> <td>   -0.146</td> <td>   -0.072</td>\n",
       "</tr>\n",
       "<tr>\n",
       "  <th>month_log</th>           <td>   -0.0051</td> <td>    0.010</td> <td>   -0.522</td> <td> 0.602</td> <td>   -0.024</td> <td>    0.014</td>\n",
       "</tr>\n",
       "<tr>\n",
       "  <th>floors_1.5</th>          <td>    0.0885</td> <td>    0.029</td> <td>    3.005</td> <td> 0.003</td> <td>    0.031</td> <td>    0.146</td>\n",
       "</tr>\n",
       "<tr>\n",
       "  <th>floors_2.0</th>          <td>    0.0598</td> <td>    0.025</td> <td>    2.418</td> <td> 0.016</td> <td>    0.011</td> <td>    0.108</td>\n",
       "</tr>\n",
       "<tr>\n",
       "  <th>floors_2.5</th>          <td>    0.2048</td> <td>    0.102</td> <td>    2.017</td> <td> 0.044</td> <td>    0.006</td> <td>    0.404</td>\n",
       "</tr>\n",
       "<tr>\n",
       "  <th>floors_3.0</th>          <td>    0.1737</td> <td>    0.055</td> <td>    3.185</td> <td> 0.001</td> <td>    0.067</td> <td>    0.281</td>\n",
       "</tr>\n",
       "<tr>\n",
       "  <th>floors_3.5</th>          <td>    0.1152</td> <td>    0.479</td> <td>    0.241</td> <td> 0.810</td> <td>   -0.824</td> <td>    1.054</td>\n",
       "</tr>\n",
       "<tr>\n",
       "  <th>waterfront_YES</th>      <td>    0.7531</td> <td>    0.109</td> <td>    6.915</td> <td> 0.000</td> <td>    0.540</td> <td>    0.967</td>\n",
       "</tr>\n",
       "<tr>\n",
       "  <th>view_EXCELLENT</th>      <td>    0.2605</td> <td>    0.080</td> <td>    3.258</td> <td> 0.001</td> <td>    0.104</td> <td>    0.417</td>\n",
       "</tr>\n",
       "<tr>\n",
       "  <th>view_FAIR</th>           <td>    0.0327</td> <td>    0.070</td> <td>    0.470</td> <td> 0.638</td> <td>   -0.104</td> <td>    0.169</td>\n",
       "</tr>\n",
       "<tr>\n",
       "  <th>view_GOOD</th>           <td>    0.1648</td> <td>    0.057</td> <td>    2.909</td> <td> 0.004</td> <td>    0.054</td> <td>    0.276</td>\n",
       "</tr>\n",
       "<tr>\n",
       "  <th>view_NONE</th>           <td>   -0.2218</td> <td>    0.036</td> <td>   -6.121</td> <td> 0.000</td> <td>   -0.293</td> <td>   -0.151</td>\n",
       "</tr>\n",
       "<tr>\n",
       "  <th>condition_Fair</th>      <td>   -0.2603</td> <td>    0.077</td> <td>   -3.372</td> <td> 0.001</td> <td>   -0.412</td> <td>   -0.109</td>\n",
       "</tr>\n",
       "<tr>\n",
       "  <th>condition_Good</th>      <td>    0.0730</td> <td>    0.018</td> <td>    3.969</td> <td> 0.000</td> <td>    0.037</td> <td>    0.109</td>\n",
       "</tr>\n",
       "<tr>\n",
       "  <th>condition_Poor</th>      <td>   -0.7526</td> <td>    0.277</td> <td>   -2.716</td> <td> 0.007</td> <td>   -1.296</td> <td>   -0.209</td>\n",
       "</tr>\n",
       "<tr>\n",
       "  <th>condition_Very Good</th> <td>    0.1776</td> <td>    0.030</td> <td>    5.845</td> <td> 0.000</td> <td>    0.118</td> <td>    0.237</td>\n",
       "</tr>\n",
       "<tr>\n",
       "  <th>grade_11 Excellent</th>  <td>    0.2813</td> <td>    0.062</td> <td>    4.527</td> <td> 0.000</td> <td>    0.159</td> <td>    0.403</td>\n",
       "</tr>\n",
       "<tr>\n",
       "  <th>grade_12 Luxury</th>     <td>    0.8520</td> <td>    0.122</td> <td>    6.976</td> <td> 0.000</td> <td>    0.613</td> <td>    1.091</td>\n",
       "</tr>\n",
       "<tr>\n",
       "  <th>grade_13 Mansion</th>    <td>    1.0016</td> <td>    0.220</td> <td>    4.554</td> <td> 0.000</td> <td>    0.570</td> <td>    1.433</td>\n",
       "</tr>\n",
       "<tr>\n",
       "  <th>grade_3 Poor</th>        <td>-2.301e-16</td> <td> 1.98e-16</td> <td>   -1.164</td> <td> 0.245</td> <td>-6.18e-16</td> <td> 1.57e-16</td>\n",
       "</tr>\n",
       "<tr>\n",
       "  <th>grade_4 Low</th>         <td>   -1.4386</td> <td>    0.247</td> <td>   -5.833</td> <td> 0.000</td> <td>   -1.922</td> <td>   -0.955</td>\n",
       "</tr>\n",
       "<tr>\n",
       "  <th>grade_5 Fair</th>        <td>   -1.4192</td> <td>    0.088</td> <td>  -16.169</td> <td> 0.000</td> <td>   -1.591</td> <td>   -1.247</td>\n",
       "</tr>\n",
       "<tr>\n",
       "  <th>grade_6 Low Average</th> <td>   -1.3276</td> <td>    0.054</td> <td>  -24.581</td> <td> 0.000</td> <td>   -1.434</td> <td>   -1.222</td>\n",
       "</tr>\n",
       "<tr>\n",
       "  <th>grade_7 Average</th>     <td>   -1.0362</td> <td>    0.043</td> <td>  -23.992</td> <td> 0.000</td> <td>   -1.121</td> <td>   -0.952</td>\n",
       "</tr>\n",
       "<tr>\n",
       "  <th>grade_8 Good</th>        <td>   -0.7393</td> <td>    0.039</td> <td>  -19.041</td> <td> 0.000</td> <td>   -0.815</td> <td>   -0.663</td>\n",
       "</tr>\n",
       "<tr>\n",
       "  <th>grade_9 Better</th>      <td>   -0.4265</td> <td>    0.039</td> <td>  -10.843</td> <td> 0.000</td> <td>   -0.504</td> <td>   -0.349</td>\n",
       "</tr>\n",
       "<tr>\n",
       "  <th>season_Spring</th>       <td>    0.1095</td> <td>    0.025</td> <td>    4.442</td> <td> 0.000</td> <td>    0.061</td> <td>    0.158</td>\n",
       "</tr>\n",
       "<tr>\n",
       "  <th>season_Summer</th>       <td>   -0.0014</td> <td>    0.021</td> <td>   -0.067</td> <td> 0.947</td> <td>   -0.043</td> <td>    0.040</td>\n",
       "</tr>\n",
       "<tr>\n",
       "  <th>season_Winter</th>       <td>    0.0287</td> <td>    0.028</td> <td>    1.016</td> <td> 0.310</td> <td>   -0.027</td> <td>    0.084</td>\n",
       "</tr>\n",
       "</table>\n",
       "<table class=\"simpletable\">\n",
       "<tr>\n",
       "  <th>Omnibus:</th>       <td>61.314</td> <th>  Durbin-Watson:     </th> <td>   2.007</td>\n",
       "</tr>\n",
       "<tr>\n",
       "  <th>Prob(Omnibus):</th> <td> 0.000</td> <th>  Jarque-Bera (JB):  </th> <td> 100.908</td>\n",
       "</tr>\n",
       "<tr>\n",
       "  <th>Skew:</th>          <td> 0.112</td> <th>  Prob(JB):          </th> <td>1.22e-22</td>\n",
       "</tr>\n",
       "<tr>\n",
       "  <th>Kurtosis:</th>      <td> 3.715</td> <th>  Cond. No.          </th> <td>1.52e+16</td>\n",
       "</tr>\n",
       "</table><br/><br/>Notes:<br/>[1] Standard Errors assume that the covariance matrix of the errors is correctly specified.<br/>[2] The smallest eigenvalue is 8.32e-29. This might indicate that there are<br/>strong multicollinearity problems or that the design matrix is singular."
      ],
      "text/plain": [
       "<class 'statsmodels.iolib.summary.Summary'>\n",
       "\"\"\"\n",
       "                            OLS Regression Results                            \n",
       "==============================================================================\n",
       "Dep. Variable:              price_log   R-squared:                       0.780\n",
       "Model:                            OLS   Adj. R-squared:                  0.778\n",
       "Method:                 Least Squares   F-statistic:                     410.4\n",
       "Date:                Tue, 04 Jan 2022   Prob (F-statistic):               0.00\n",
       "Time:                        17:45:06   Log-Likelihood:                -2913.5\n",
       "No. Observations:                4319   AIC:                             5903.\n",
       "Df Residuals:                    4281   BIC:                             6145.\n",
       "Df Model:                          37                                         \n",
       "Covariance Type:            nonrobust                                         \n",
       "=======================================================================================\n",
       "                          coef    std err          t      P>|t|      [0.025      0.975]\n",
       "---------------------------------------------------------------------------------------\n",
       "const                   0.9031      0.055     16.468      0.000       0.796       1.011\n",
       "bedrooms_log           -0.0770      0.010     -7.628      0.000      -0.097      -0.057\n",
       "bathrooms_log           0.0792      0.014      5.823      0.000       0.053       0.106\n",
       "sqft_living_log         0.3232      0.021     15.422      0.000       0.282       0.364\n",
       "sqft_lot_log            0.0497      0.019      2.626      0.009       0.013       0.087\n",
       "sqft_above_log         -0.0038      0.020     -0.194      0.846      -0.042       0.035\n",
       "yr_built_log           -0.2032      0.012    -17.520      0.000      -0.226      -0.180\n",
       "zipcode_log            -0.0518      0.009     -5.981      0.000      -0.069      -0.035\n",
       "lat_log                 0.3624      0.008     45.792      0.000       0.347       0.378\n",
       "sqft_living15_log       0.1317      0.013     10.503      0.000       0.107       0.156\n",
       "sqft_lot15_log         -0.1087      0.019     -5.770      0.000      -0.146      -0.072\n",
       "month_log              -0.0051      0.010     -0.522      0.602      -0.024       0.014\n",
       "floors_1.5              0.0885      0.029      3.005      0.003       0.031       0.146\n",
       "floors_2.0              0.0598      0.025      2.418      0.016       0.011       0.108\n",
       "floors_2.5              0.2048      0.102      2.017      0.044       0.006       0.404\n",
       "floors_3.0              0.1737      0.055      3.185      0.001       0.067       0.281\n",
       "floors_3.5              0.1152      0.479      0.241      0.810      -0.824       1.054\n",
       "waterfront_YES          0.7531      0.109      6.915      0.000       0.540       0.967\n",
       "view_EXCELLENT          0.2605      0.080      3.258      0.001       0.104       0.417\n",
       "view_FAIR               0.0327      0.070      0.470      0.638      -0.104       0.169\n",
       "view_GOOD               0.1648      0.057      2.909      0.004       0.054       0.276\n",
       "view_NONE              -0.2218      0.036     -6.121      0.000      -0.293      -0.151\n",
       "condition_Fair         -0.2603      0.077     -3.372      0.001      -0.412      -0.109\n",
       "condition_Good          0.0730      0.018      3.969      0.000       0.037       0.109\n",
       "condition_Poor         -0.7526      0.277     -2.716      0.007      -1.296      -0.209\n",
       "condition_Very Good     0.1776      0.030      5.845      0.000       0.118       0.237\n",
       "grade_11 Excellent      0.2813      0.062      4.527      0.000       0.159       0.403\n",
       "grade_12 Luxury         0.8520      0.122      6.976      0.000       0.613       1.091\n",
       "grade_13 Mansion        1.0016      0.220      4.554      0.000       0.570       1.433\n",
       "grade_3 Poor        -2.301e-16   1.98e-16     -1.164      0.245   -6.18e-16    1.57e-16\n",
       "grade_4 Low            -1.4386      0.247     -5.833      0.000      -1.922      -0.955\n",
       "grade_5 Fair           -1.4192      0.088    -16.169      0.000      -1.591      -1.247\n",
       "grade_6 Low Average    -1.3276      0.054    -24.581      0.000      -1.434      -1.222\n",
       "grade_7 Average        -1.0362      0.043    -23.992      0.000      -1.121      -0.952\n",
       "grade_8 Good           -0.7393      0.039    -19.041      0.000      -0.815      -0.663\n",
       "grade_9 Better         -0.4265      0.039    -10.843      0.000      -0.504      -0.349\n",
       "season_Spring           0.1095      0.025      4.442      0.000       0.061       0.158\n",
       "season_Summer          -0.0014      0.021     -0.067      0.947      -0.043       0.040\n",
       "season_Winter           0.0287      0.028      1.016      0.310      -0.027       0.084\n",
       "==============================================================================\n",
       "Omnibus:                       61.314   Durbin-Watson:                   2.007\n",
       "Prob(Omnibus):                  0.000   Jarque-Bera (JB):              100.908\n",
       "Skew:                           0.112   Prob(JB):                     1.22e-22\n",
       "Kurtosis:                       3.715   Cond. No.                     1.52e+16\n",
       "==============================================================================\n",
       "\n",
       "Notes:\n",
       "[1] Standard Errors assume that the covariance matrix of the errors is correctly specified.\n",
       "[2] The smallest eigenvalue is 8.32e-29. This might indicate that there are\n",
       "strong multicollinearity problems or that the design matrix is singular.\n",
       "\"\"\""
      ]
     },
     "execution_count": 41,
     "metadata": {},
     "output_type": "execute_result"
    }
   ],
   "source": [
    "# Create a model with the training data\n",
    "x_train_with_intercept = sm.add_constant(X_train)\n",
    "model = sm.OLS(y_train, x_train_with_intercept)\n",
    "results = model.fit()\n",
    "\n",
    "# show the model summary for the training data\n",
    "results.summary()"
   ]
  },
  {
   "cell_type": "markdown",
   "metadata": {
    "id": "UKYBFRiT89wg"
   },
   "source": [
    "**Calculate R_squared for training and test sets:**"
   ]
  },
  {
   "cell_type": "code",
   "execution_count": 42,
   "metadata": {
    "colab": {
     "base_uri": "https://localhost:8080/"
    },
    "id": "elPmE2egb2vw",
    "outputId": "e4542de0-42bd-4a57-cff5-7bb820232556"
   },
   "outputs": [
    {
     "name": "stdout",
     "output_type": "stream",
     "text": [
      "R-squared of the train data : 0.780078939666741\n",
      "R-squared of the test data : 0.706666750947633\n"
     ]
    }
   ],
   "source": [
    "# calculating the r_squared for the test data\n",
    "from sklearn.metrics import r2_score\n",
    "\n",
    "model = LinearRegression()\n",
    "model.fit(X_train, y_train)\n",
    "\n",
    "y_pred_train = model.predict(X_train)\n",
    "y_pred_test = model.predict(X_test)\n",
    "\n",
    "print (\"R-squared of the train data :\", results.rsquared)\n",
    "\n",
    "print ('R-squared of the test data :', r2_score(y_pred_test, y_test))\n"
   ]
  },
  {
   "cell_type": "markdown",
   "metadata": {
    "id": "E6b3pMY8-tKs"
   },
   "source": [
    "Here we calculated the R_squared for both the train and test datasets as the data were splitted into two different sets (train and test) where each has its accuracy and r_squared values"
   ]
  },
  {
   "cell_type": "code",
   "execution_count": 43,
   "metadata": {
    "id": "TidG8k8ED2be"
   },
   "outputs": [],
   "source": [
    "train_residuals = y_pred_train - y_train\n",
    "test_residuals = y_pred_test - y_test"
   ]
  },
  {
   "cell_type": "markdown",
   "metadata": {
    "id": "SKoAfVh1DXkT"
   },
   "source": [
    "Calculate the Mean Squared Error (MSE) & Root Mean Squared Error (RMSE):\n"
   ]
  },
  {
   "cell_type": "code",
   "execution_count": 44,
   "metadata": {
    "colab": {
     "base_uri": "https://localhost:8080/"
    },
    "id": "W430jmdK_6Ey",
    "outputId": "c3db68d3-d5e5-4d9e-9ec6-3d57e5425c40"
   },
   "outputs": [
    {
     "name": "stdout",
     "output_type": "stream",
     "text": [
      "Train Mean Squarred Error: 0.22566484690396732\n",
      "Test Mean Squarred Error: 0.22823039779348062\n",
      "Train Root Mean Squarred Error: 0.4750419422576993\n",
      "Test Root Mean Squarred Error: 0.4777346520752714\n"
     ]
    }
   ],
   "source": [
    "# Import mean_squared_error from sklearn.metrics\n",
    "\n",
    "from sklearn.metrics import mean_squared_error\n",
    "\n",
    "# Calculate training and test MSE\n",
    "\n",
    "train_mse = mean_squared_error(y_train, y_pred_train)\n",
    "test_mse = mean_squared_error(y_test, y_pred_test)\n",
    "train_rmse = mean_squared_error(y_train, y_pred_train, squared=False)\n",
    "test_rmse = mean_squared_error(y_test, y_pred_test, squared=False)\n",
    "print('Train Mean Squarred Error:', train_mse)\n",
    "print('Test Mean Squarred Error:', test_mse)\n",
    "print('Train Root Mean Squarred Error:', train_rmse)\n",
    "print('Test Root Mean Squarred Error:', test_rmse)"
   ]
  },
  {
   "cell_type": "markdown",
   "metadata": {
    "id": "PSennLskFmPA"
   },
   "source": [
    "Evaluate the effect of train-test split size:"
   ]
  },
  {
   "cell_type": "code",
   "execution_count": 45,
   "metadata": {
    "colab": {
     "base_uri": "https://localhost:8080/",
     "height": 282
    },
    "id": "4FnIoTAuFmPA",
    "outputId": "03dd6a6c-9c17-405b-cdbd-beba115a893d"
   },
   "outputs": [
    {
     "data": {
      "text/plain": [
       "<matplotlib.legend.Legend at 0x7fed17016a30>"
      ]
     },
     "execution_count": 45,
     "metadata": {},
     "output_type": "execute_result"
    },
    {
     "data": {
      "image/png": "[encoded data removed]",
      "text/plain": [
       "<Figure size 432x288 with 1 Axes>"
      ]
     },
     "metadata": {},
     "output_type": "display_data"
    }
   ],
   "source": [
    "import random\n",
    "random.seed(110)\n",
    "\n",
    "train_err = []\n",
    "test_err = []\n",
    "t_sizes = list(range(5,100,5))\n",
    "for t_size in t_sizes:\n",
    "    X_train, X_test, y_train, y_test = train_test_split(X_fin, y_preprocessed, test_size=t_size/100)\n",
    "    model.fit(X_train, y_train)\n",
    "    y_pred_train = model.predict(X_train)\n",
    "    y_pred_test = model.predict(X_test)\n",
    "    train_err.append(mean_squared_error(y_train, y_pred_train))\n",
    "    test_err.append(mean_squared_error(y_test, y_pred_test))\n",
    "plt.scatter(t_sizes, train_err, label='Training Error')\n",
    "plt.scatter(t_sizes, test_err, label='Testing Error')\n",
    "plt.legend()"
   ]
  },
  {
   "cell_type": "markdown",
   "metadata": {
    "id": "g9XO4ftaFmPB"
   },
   "source": [
    "Evaluate the effect of train-test split size: Extension\n"
   ]
  },
  {
   "cell_type": "code",
   "execution_count": 46,
   "metadata": {
    "colab": {
     "base_uri": "https://localhost:8080/",
     "height": 282
    },
    "id": "jesOxIBvFmPB",
    "outputId": "678d6a11-2a81-4ac7-893d-7db54fdcc3cf"
   },
   "outputs": [
    {
     "data": {
      "text/plain": [
       "<matplotlib.legend.Legend at 0x7fed33096be0>"
      ]
     },
     "execution_count": 46,
     "metadata": {},
     "output_type": "execute_result"
    },
    {
     "data": {
      "image/png": "[encoded data removed]",
      "text/plain": [
       "<Figure size 432x288 with 1 Axes>"
      ]
     },
     "metadata": {},
     "output_type": "display_data"
    }
   ],
   "source": [
    "random.seed(900)\n",
    "\n",
    "train_err = []\n",
    "test_err = []\n",
    "t_sizes = range(5,100,5)\n",
    "for t_size in t_sizes:\n",
    "    temp_train_err = []\n",
    "    temp_test_err = []\n",
    "    for i in range(10):\n",
    "        X_train, X_test, y_train, y_test = train_test_split(X_fin, y_preprocessed, test_size=t_size/100)\n",
    "        model.fit(X_train, y_train)\n",
    "        y_pred_train = model.predict(X_train)\n",
    "        y_pred_test = model.predict(X_test)\n",
    "        temp_train_err.append(mean_squared_error(y_train, y_pred_train))\n",
    "        temp_test_err.append(mean_squared_error(y_test, y_pred_test))\n",
    "    train_err.append(np.mean(temp_train_err))\n",
    "    test_err.append(np.mean(temp_test_err))\n",
    "plt.scatter(t_sizes, train_err, label='Training Error')\n",
    "plt.scatter(t_sizes, test_err, label='Testing Error')\n",
    "plt.legend()"
   ]
  },
  {
   "cell_type": "markdown",
   "metadata": {
    "id": "0WFEdbu9-SvM"
   },
   "source": [
    "Trying another model after splitting data of preprocessed dataframe after stepwise process :\n",
    "\n",
    "\n"
   ]
  },
  {
   "cell_type": "markdown",
   "metadata": {
    "id": "Nlv2r40S_iyM"
   },
   "source": [
    "Perform a train-test split"
   ]
  },
  {
   "cell_type": "code",
   "execution_count": 47,
   "metadata": {
    "id": "NHtlWCMfwgWg"
   },
   "outputs": [],
   "source": [
    "# Splitting the preprocessed df of X_fin into train and test\n",
    "X_train, X_test, y_train, y_test = train_test_split(X_fin, y_preprocessed, test_size=0.8, random_state=9)"
   ]
  },
  {
   "cell_type": "markdown",
   "metadata": {
    "id": "g3tvBwtz_pKg"
   },
   "source": [
    "Apply your model to the train set and showing its summary:"
   ]
  },
  {
   "cell_type": "code",
   "execution_count": 48,
   "metadata": {
    "colab": {
     "base_uri": "https://localhost:8080/",
     "height": 1000
    },
    "id": "a9cLR1ggwxx6",
    "outputId": "cba08e83-47b4-43cd-9728-2d3ff260a1d1"
   },
   "outputs": [
    {
     "data": {
      "text/html": [
       "<table class=\"simpletable\">\n",
       "<caption>OLS Regression Results</caption>\n",
       "<tr>\n",
       "  <th>Dep. Variable:</th>        <td>price_log</td>    <th>  R-squared:         </th> <td>   0.780</td>\n",
       "</tr>\n",
       "<tr>\n",
       "  <th>Model:</th>                   <td>OLS</td>       <th>  Adj. R-squared:    </th> <td>   0.778</td>\n",
       "</tr>\n",
       "<tr>\n",
       "  <th>Method:</th>             <td>Least Squares</td>  <th>  F-statistic:       </th> <td>   474.6</td>\n",
       "</tr>\n",
       "<tr>\n",
       "  <th>Date:</th>             <td>Tue, 04 Jan 2022</td> <th>  Prob (F-statistic):</th>  <td>  0.00</td> \n",
       "</tr>\n",
       "<tr>\n",
       "  <th>Time:</th>                 <td>17:45:21</td>     <th>  Log-Likelihood:    </th> <td> -2915.3</td>\n",
       "</tr>\n",
       "<tr>\n",
       "  <th>No. Observations:</th>      <td>  4319</td>      <th>  AIC:               </th> <td>   5897.</td>\n",
       "</tr>\n",
       "<tr>\n",
       "  <th>Df Residuals:</th>          <td>  4286</td>      <th>  BIC:               </th> <td>   6107.</td>\n",
       "</tr>\n",
       "<tr>\n",
       "  <th>Df Model:</th>              <td>    32</td>      <th>                     </th>     <td> </td>   \n",
       "</tr>\n",
       "<tr>\n",
       "  <th>Covariance Type:</th>      <td>nonrobust</td>    <th>                     </th>     <td> </td>   \n",
       "</tr>\n",
       "</table>\n",
       "<table class=\"simpletable\">\n",
       "<tr>\n",
       "           <td></td>              <th>coef</th>     <th>std err</th>      <th>t</th>      <th>P>|t|</th>  <th>[0.025</th>    <th>0.975]</th>  \n",
       "</tr>\n",
       "<tr>\n",
       "  <th>const</th>               <td>    0.9098</td> <td>    0.052</td> <td>   17.360</td> <td> 0.000</td> <td>    0.807</td> <td>    1.013</td>\n",
       "</tr>\n",
       "<tr>\n",
       "  <th>sqft_living_log</th>     <td>    0.3207</td> <td>    0.017</td> <td>   18.675</td> <td> 0.000</td> <td>    0.287</td> <td>    0.354</td>\n",
       "</tr>\n",
       "<tr>\n",
       "  <th>lat_log</th>             <td>    0.3623</td> <td>    0.008</td> <td>   45.971</td> <td> 0.000</td> <td>    0.347</td> <td>    0.378</td>\n",
       "</tr>\n",
       "<tr>\n",
       "  <th>view_NONE</th>           <td>   -0.2228</td> <td>    0.036</td> <td>   -6.161</td> <td> 0.000</td> <td>   -0.294</td> <td>   -0.152</td>\n",
       "</tr>\n",
       "<tr>\n",
       "  <th>sqft_living15_log</th>   <td>    0.1315</td> <td>    0.012</td> <td>   10.528</td> <td> 0.000</td> <td>    0.107</td> <td>    0.156</td>\n",
       "</tr>\n",
       "<tr>\n",
       "  <th>yr_built_log</th>        <td>   -0.2031</td> <td>    0.012</td> <td>  -17.583</td> <td> 0.000</td> <td>   -0.226</td> <td>   -0.180</td>\n",
       "</tr>\n",
       "<tr>\n",
       "  <th>grade_7 Average</th>     <td>   -1.0356</td> <td>    0.043</td> <td>  -24.262</td> <td> 0.000</td> <td>   -1.119</td> <td>   -0.952</td>\n",
       "</tr>\n",
       "<tr>\n",
       "  <th>grade_6 Low Average</th> <td>   -1.3259</td> <td>    0.054</td> <td>  -24.748</td> <td> 0.000</td> <td>   -1.431</td> <td>   -1.221</td>\n",
       "</tr>\n",
       "<tr>\n",
       "  <th>grade_8 Good</th>        <td>   -0.7387</td> <td>    0.039</td> <td>  -19.180</td> <td> 0.000</td> <td>   -0.814</td> <td>   -0.663</td>\n",
       "</tr>\n",
       "<tr>\n",
       "  <th>grade_5 Fair</th>        <td>   -1.4203</td> <td>    0.087</td> <td>  -16.254</td> <td> 0.000</td> <td>   -1.592</td> <td>   -1.249</td>\n",
       "</tr>\n",
       "<tr>\n",
       "  <th>grade_9 Better</th>      <td>   -0.4271</td> <td>    0.039</td> <td>  -10.878</td> <td> 0.000</td> <td>   -0.504</td> <td>   -0.350</td>\n",
       "</tr>\n",
       "<tr>\n",
       "  <th>waterfront_YES</th>      <td>    0.7486</td> <td>    0.109</td> <td>    6.884</td> <td> 0.000</td> <td>    0.535</td> <td>    0.962</td>\n",
       "</tr>\n",
       "<tr>\n",
       "  <th>bathrooms_log</th>       <td>    0.0792</td> <td>    0.014</td> <td>    5.862</td> <td> 0.000</td> <td>    0.053</td> <td>    0.106</td>\n",
       "</tr>\n",
       "<tr>\n",
       "  <th>grade_4 Low</th>         <td>   -1.4423</td> <td>    0.246</td> <td>   -5.855</td> <td> 0.000</td> <td>   -1.925</td> <td>   -0.959</td>\n",
       "</tr>\n",
       "<tr>\n",
       "  <th>sqft_lot15_log</th>      <td>   -0.1098</td> <td>    0.019</td> <td>   -5.837</td> <td> 0.000</td> <td>   -0.147</td> <td>   -0.073</td>\n",
       "</tr>\n",
       "<tr>\n",
       "  <th>zipcode_log</th>         <td>   -0.0516</td> <td>    0.009</td> <td>   -5.993</td> <td> 0.000</td> <td>   -0.068</td> <td>   -0.035</td>\n",
       "</tr>\n",
       "<tr>\n",
       "  <th>grade_12 Luxury</th>     <td>    0.8550</td> <td>    0.122</td> <td>    7.010</td> <td> 0.000</td> <td>    0.616</td> <td>    1.094</td>\n",
       "</tr>\n",
       "<tr>\n",
       "  <th>condition_Very Good</th> <td>    0.1762</td> <td>    0.030</td> <td>    5.816</td> <td> 0.000</td> <td>    0.117</td> <td>    0.236</td>\n",
       "</tr>\n",
       "<tr>\n",
       "  <th>season_Spring</th>       <td>    0.1075</td> <td>    0.016</td> <td>    6.757</td> <td> 0.000</td> <td>    0.076</td> <td>    0.139</td>\n",
       "</tr>\n",
       "<tr>\n",
       "  <th>bedrooms_log</th>        <td>   -0.0766</td> <td>    0.010</td> <td>   -7.594</td> <td> 0.000</td> <td>   -0.096</td> <td>   -0.057</td>\n",
       "</tr>\n",
       "<tr>\n",
       "  <th>grade_11 Excellent</th>  <td>    0.2813</td> <td>    0.062</td> <td>    4.535</td> <td> 0.000</td> <td>    0.160</td> <td>    0.403</td>\n",
       "</tr>\n",
       "<tr>\n",
       "  <th>condition_Good</th>      <td>    0.0728</td> <td>    0.018</td> <td>    3.970</td> <td> 0.000</td> <td>    0.037</td> <td>    0.109</td>\n",
       "</tr>\n",
       "<tr>\n",
       "  <th>grade_13 Mansion</th>    <td>    0.9936</td> <td>    0.220</td> <td>    4.523</td> <td> 0.000</td> <td>    0.563</td> <td>    1.424</td>\n",
       "</tr>\n",
       "<tr>\n",
       "  <th>view_EXCELLENT</th>      <td>    0.2614</td> <td>    0.080</td> <td>    3.275</td> <td> 0.001</td> <td>    0.105</td> <td>    0.418</td>\n",
       "</tr>\n",
       "<tr>\n",
       "  <th>floors_3.0</th>          <td>    0.1725</td> <td>    0.053</td> <td>    3.271</td> <td> 0.001</td> <td>    0.069</td> <td>    0.276</td>\n",
       "</tr>\n",
       "<tr>\n",
       "  <th>condition_Fair</th>      <td>   -0.2599</td> <td>    0.077</td> <td>   -3.368</td> <td> 0.001</td> <td>   -0.411</td> <td>   -0.109</td>\n",
       "</tr>\n",
       "<tr>\n",
       "  <th>floors_2.0</th>          <td>    0.0573</td> <td>    0.021</td> <td>    2.672</td> <td> 0.008</td> <td>    0.015</td> <td>    0.099</td>\n",
       "</tr>\n",
       "<tr>\n",
       "  <th>floors_1.5</th>          <td>    0.0866</td> <td>    0.028</td> <td>    3.066</td> <td> 0.002</td> <td>    0.031</td> <td>    0.142</td>\n",
       "</tr>\n",
       "<tr>\n",
       "  <th>floors_2.5</th>          <td>    0.2001</td> <td>    0.100</td> <td>    1.995</td> <td> 0.046</td> <td>    0.003</td> <td>    0.397</td>\n",
       "</tr>\n",
       "<tr>\n",
       "  <th>condition_Poor</th>      <td>   -0.7565</td> <td>    0.277</td> <td>   -2.731</td> <td> 0.006</td> <td>   -1.300</td> <td>   -0.213</td>\n",
       "</tr>\n",
       "<tr>\n",
       "  <th>view_GOOD</th>           <td>    0.1652</td> <td>    0.057</td> <td>    2.916</td> <td> 0.004</td> <td>    0.054</td> <td>    0.276</td>\n",
       "</tr>\n",
       "<tr>\n",
       "  <th>view_FAIR</th>           <td>    0.0336</td> <td>    0.070</td> <td>    0.483</td> <td> 0.629</td> <td>   -0.103</td> <td>    0.170</td>\n",
       "</tr>\n",
       "<tr>\n",
       "  <th>sqft_lot_log</th>        <td>    0.0503</td> <td>    0.019</td> <td>    2.672</td> <td> 0.008</td> <td>    0.013</td> <td>    0.087</td>\n",
       "</tr>\n",
       "</table>\n",
       "<table class=\"simpletable\">\n",
       "<tr>\n",
       "  <th>Omnibus:</th>       <td>61.691</td> <th>  Durbin-Watson:     </th> <td>   2.009</td>\n",
       "</tr>\n",
       "<tr>\n",
       "  <th>Prob(Omnibus):</th> <td> 0.000</td> <th>  Jarque-Bera (JB):  </th> <td> 100.810</td>\n",
       "</tr>\n",
       "<tr>\n",
       "  <th>Skew:</th>          <td> 0.116</td> <th>  Prob(JB):          </th> <td>1.29e-22</td>\n",
       "</tr>\n",
       "<tr>\n",
       "  <th>Kurtosis:</th>      <td> 3.711</td> <th>  Cond. No.          </th> <td>    73.2</td>\n",
       "</tr>\n",
       "</table><br/><br/>Notes:<br/>[1] Standard Errors assume that the covariance matrix of the errors is correctly specified."
      ],
      "text/plain": [
       "<class 'statsmodels.iolib.summary.Summary'>\n",
       "\"\"\"\n",
       "                            OLS Regression Results                            \n",
       "==============================================================================\n",
       "Dep. Variable:              price_log   R-squared:                       0.780\n",
       "Model:                            OLS   Adj. R-squared:                  0.778\n",
       "Method:                 Least Squares   F-statistic:                     474.6\n",
       "Date:                Tue, 04 Jan 2022   Prob (F-statistic):               0.00\n",
       "Time:                        17:45:21   Log-Likelihood:                -2915.3\n",
       "No. Observations:                4319   AIC:                             5897.\n",
       "Df Residuals:                    4286   BIC:                             6107.\n",
       "Df Model:                          32                                         \n",
       "Covariance Type:            nonrobust                                         \n",
       "=======================================================================================\n",
       "                          coef    std err          t      P>|t|      [0.025      0.975]\n",
       "---------------------------------------------------------------------------------------\n",
       "const                   0.9098      0.052     17.360      0.000       0.807       1.013\n",
       "sqft_living_log         0.3207      0.017     18.675      0.000       0.287       0.354\n",
       "lat_log                 0.3623      0.008     45.971      0.000       0.347       0.378\n",
       "view_NONE              -0.2228      0.036     -6.161      0.000      -0.294      -0.152\n",
       "sqft_living15_log       0.1315      0.012     10.528      0.000       0.107       0.156\n",
       "yr_built_log           -0.2031      0.012    -17.583      0.000      -0.226      -0.180\n",
       "grade_7 Average        -1.0356      0.043    -24.262      0.000      -1.119      -0.952\n",
       "grade_6 Low Average    -1.3259      0.054    -24.748      0.000      -1.431      -1.221\n",
       "grade_8 Good           -0.7387      0.039    -19.180      0.000      -0.814      -0.663\n",
       "grade_5 Fair           -1.4203      0.087    -16.254      0.000      -1.592      -1.249\n",
       "grade_9 Better         -0.4271      0.039    -10.878      0.000      -0.504      -0.350\n",
       "waterfront_YES          0.7486      0.109      6.884      0.000       0.535       0.962\n",
       "bathrooms_log           0.0792      0.014      5.862      0.000       0.053       0.106\n",
       "grade_4 Low            -1.4423      0.246     -5.855      0.000      -1.925      -0.959\n",
       "sqft_lot15_log         -0.1098      0.019     -5.837      0.000      -0.147      -0.073\n",
       "zipcode_log            -0.0516      0.009     -5.993      0.000      -0.068      -0.035\n",
       "grade_12 Luxury         0.8550      0.122      7.010      0.000       0.616       1.094\n",
       "condition_Very Good     0.1762      0.030      5.816      0.000       0.117       0.236\n",
       "season_Spring           0.1075      0.016      6.757      0.000       0.076       0.139\n",
       "bedrooms_log           -0.0766      0.010     -7.594      0.000      -0.096      -0.057\n",
       "grade_11 Excellent      0.2813      0.062      4.535      0.000       0.160       0.403\n",
       "condition_Good          0.0728      0.018      3.970      0.000       0.037       0.109\n",
       "grade_13 Mansion        0.9936      0.220      4.523      0.000       0.563       1.424\n",
       "view_EXCELLENT          0.2614      0.080      3.275      0.001       0.105       0.418\n",
       "floors_3.0              0.1725      0.053      3.271      0.001       0.069       0.276\n",
       "condition_Fair         -0.2599      0.077     -3.368      0.001      -0.411      -0.109\n",
       "floors_2.0              0.0573      0.021      2.672      0.008       0.015       0.099\n",
       "floors_1.5              0.0866      0.028      3.066      0.002       0.031       0.142\n",
       "floors_2.5              0.2001      0.100      1.995      0.046       0.003       0.397\n",
       "condition_Poor         -0.7565      0.277     -2.731      0.006      -1.300      -0.213\n",
       "view_GOOD               0.1652      0.057      2.916      0.004       0.054       0.276\n",
       "view_FAIR               0.0336      0.070      0.483      0.629      -0.103       0.170\n",
       "sqft_lot_log            0.0503      0.019      2.672      0.008       0.013       0.087\n",
       "==============================================================================\n",
       "Omnibus:                       61.691   Durbin-Watson:                   2.009\n",
       "Prob(Omnibus):                  0.000   Jarque-Bera (JB):              100.810\n",
       "Skew:                           0.116   Prob(JB):                     1.29e-22\n",
       "Kurtosis:                       3.711   Cond. No.                         73.2\n",
       "==============================================================================\n",
       "\n",
       "Notes:\n",
       "[1] Standard Errors assume that the covariance matrix of the errors is correctly specified.\n",
       "\"\"\""
      ]
     },
     "execution_count": 48,
     "metadata": {},
     "output_type": "execute_result"
    }
   ],
   "source": [
    "# Create a model with the training data\n",
    "x_train_with_intercept = sm.add_constant(X_train)\n",
    "model = sm.OLS(y_train, x_train_with_intercept)\n",
    "results = model.fit()\n",
    "\n",
    "# show the model summary for the training data\n",
    "results.summary()"
   ]
  },
  {
   "cell_type": "markdown",
   "metadata": {
    "id": "LSmFHTks_xTc"
   },
   "source": [
    "Calculate R_squared for training and test sets:"
   ]
  },
  {
   "cell_type": "code",
   "execution_count": 49,
   "metadata": {
    "colab": {
     "base_uri": "https://localhost:8080/"
    },
    "id": "PK4wZcC-xMlY",
    "outputId": "f75db47f-f207-42c2-9f68-023d052ee3ab"
   },
   "outputs": [
    {
     "name": "stdout",
     "output_type": "stream",
     "text": [
      "R-squared of the train data : 0.7798963502324714\n",
      "R-squared of the test data : 0.7070810098940452\n"
     ]
    }
   ],
   "source": [
    "# calculating the r_squared for the test data\n",
    "from sklearn.metrics import r2_score\n",
    "\n",
    "model = LinearRegression()\n",
    "model.fit(X_train, y_train)\n",
    "y_pred_train = model.predict(X_train)\n",
    "y_pred_test = model.predict(X_test)\n",
    "\n",
    "print (\"R-squared of the train data :\", results.rsquared)\n",
    "\n",
    "print ('R-squared of the test data :', r2_score(y_pred_test, y_test))\n"
   ]
  },
  {
   "cell_type": "markdown",
   "metadata": {
    "id": "ONqKps0rA4A0"
   },
   "source": [
    "Calculate training and test residuals:"
   ]
  },
  {
   "cell_type": "code",
   "execution_count": 50,
   "metadata": {
    "id": "W_Gnmp7OyjVt"
   },
   "outputs": [],
   "source": [
    "train_residuals = y_pred_train - y_train\n",
    "test_residuals = y_pred_test - y_test"
   ]
  },
  {
   "cell_type": "markdown",
   "metadata": {
    "id": "SGt3_msLBSbp"
   },
   "source": [
    "Calculate the Mean Squared Error (MSE) & Root Mean Squared Error (RMSE):\n"
   ]
  },
  {
   "cell_type": "code",
   "execution_count": 51,
   "metadata": {
    "colab": {
     "base_uri": "https://localhost:8080/"
    },
    "id": "bWUzhJw2A8qQ",
    "outputId": "bab48553-14e3-4d72-90bd-d23319f018b8"
   },
   "outputs": [
    {
     "name": "stdout",
     "output_type": "stream",
     "text": [
      "Train Mean Squarred Error: 0.22585220511635634\n",
      "Test Mean Squarred Error: 0.22803319213536202\n",
      "Train Root Mean Squarred Error: 0.47523910310111933\n",
      "Test Root Mean Squarred Error: 0.4775282108267134\n"
     ]
    }
   ],
   "source": [
    "# Import mean_squared_error from sklearn.metrics\n",
    "\n",
    "from sklearn.metrics import mean_squared_error\n",
    "\n",
    "# Calculate training and test MSE\n",
    "\n",
    "train_mse = mean_squared_error(y_train, y_pred_train)\n",
    "test_mse = mean_squared_error(y_test, y_pred_test)\n",
    "train_rmse = mean_squared_error(y_train, y_pred_train, squared=False)\n",
    "test_rmse = mean_squared_error(y_test, y_pred_test, squared=False)\n",
    "print('Train Mean Squarred Error:', train_mse)\n",
    "print('Test Mean Squarred Error:', test_mse)\n",
    "print('Train Root Mean Squarred Error:', train_rmse)\n",
    "print('Test Root Mean Squarred Error:', test_rmse)"
   ]
  },
  {
   "cell_type": "markdown",
   "metadata": {
    "id": "8F5ZGrN7EIB3"
   },
   "source": [
    "Evaluate the effect of train-test split size:"
   ]
  },
  {
   "cell_type": "code",
   "execution_count": 52,
   "metadata": {
    "colab": {
     "base_uri": "https://localhost:8080/",
     "height": 282
    },
    "id": "4SEvTpISBbVB",
    "outputId": "7ff71abb-b588-48e6-bfe1-14686d42939a"
   },
   "outputs": [
    {
     "data": {
      "text/plain": [
       "<matplotlib.legend.Legend at 0x7fed185f3910>"
      ]
     },
     "execution_count": 52,
     "metadata": {},
     "output_type": "execute_result"
    },
    {
     "data": {
      "image/png": "[encoded data removed]",
      "text/plain": [
       "<Figure size 432x288 with 1 Axes>"
      ]
     },
     "metadata": {},
     "output_type": "display_data"
    }
   ],
   "source": [
    "import random\n",
    "random.seed(110)\n",
    "\n",
    "train_err = []\n",
    "test_err = []\n",
    "t_sizes = list(range(5,100,5))\n",
    "for t_size in t_sizes:\n",
    "    X_train, X_test, y_train, y_test = train_test_split(X_fin, y_preprocessed, test_size=t_size/100)\n",
    "    model.fit(X_train, y_train)\n",
    "    y_pred_train = model.predict(X_train)\n",
    "    y_pred_test = model.predict(X_test)\n",
    "    train_err.append(mean_squared_error(y_train, y_pred_train))\n",
    "    test_err.append(mean_squared_error(y_test, y_pred_test))\n",
    "plt.scatter(t_sizes, train_err, label='Training Error')\n",
    "plt.scatter(t_sizes, test_err, label='Testing Error')\n",
    "plt.legend()"
   ]
  },
  {
   "cell_type": "markdown",
   "metadata": {
    "id": "kPPhhNISFZko"
   },
   "source": [
    "Evaluate the effect of train-test split size: Extension\n"
   ]
  },
  {
   "cell_type": "code",
   "execution_count": 53,
   "metadata": {
    "colab": {
     "base_uri": "https://localhost:8080/",
     "height": 282
    },
    "id": "O4Uom3zDEnCE",
    "outputId": "be11882b-e0f6-4607-9f38-5106a9827e14"
   },
   "outputs": [
    {
     "data": {
      "text/plain": [
       "<matplotlib.legend.Legend at 0x7fed17606c70>"
      ]
     },
     "execution_count": 53,
     "metadata": {},
     "output_type": "execute_result"
    },
    {
     "data": {
      "image/png": "[encoded data removed]",
      "text/plain": [
       "<Figure size 432x288 with 1 Axes>"
      ]
     },
     "metadata": {},
     "output_type": "display_data"
    }
   ],
   "source": [
    "random.seed(900)\n",
    "\n",
    "train_err = []\n",
    "test_err = []\n",
    "t_sizes = range(5,100,5)\n",
    "for t_size in t_sizes:\n",
    "    temp_train_err = []\n",
    "    temp_test_err = []\n",
    "    for i in range(10):\n",
    "        X_train, X_test, y_train, y_test = train_test_split(X_fin, y_preprocessed, test_size=t_size/100)\n",
    "        model.fit(X_train, y_train)\n",
    "        y_pred_train = model.predict(X_train)\n",
    "        y_pred_test = model.predict(X_test)\n",
    "        temp_train_err.append(mean_squared_error(y_train, y_pred_train))\n",
    "        temp_test_err.append(mean_squared_error(y_test, y_pred_test))\n",
    "    train_err.append(np.mean(temp_train_err))\n",
    "    test_err.append(np.mean(temp_test_err))\n",
    "plt.scatter(t_sizes, train_err, label='Training Error')\n",
    "plt.scatter(t_sizes, test_err, label='Testing Error')\n",
    "plt.legend()"
   ]
  }
 ],
 "metadata": {
  "colab": {
   "collapsed_sections": [],
   "name": "grace_eda.ipynb",
   "provenance": []
  },
  "kernelspec": {
   "display_name": "Python (learn-env)",
   "language": "python",
   "name": "learn-env"
  },
  "language_info": {
   "codemirror_mode": {
    "name": "ipython",
    "version": 3
   },
   "file_extension": ".py",
   "mimetype": "text/x-python",
   "name": "python",
   "nbconvert_exporter": "python",
   "pygments_lexer": "ipython3",
   "version": "3.8.5"
  }
 },
 "nbformat": 4,
 "nbformat_minor": 1
}
